{
 "cells": [
  {
   "cell_type": "markdown",
   "id": "9cfe845d",
   "metadata": {},
   "source": [
    "<div style=\"text-align: center;\">\n",
    "    <span style=\"color: #000000; font-size: 30px; font-weight: bold; font-family: Arial; margin: 50px;\">\n",
    "        This is the Python code for the DSA5101 project\n",
    "    </span>\n",
    "    <br>\n",
    "    <span style=\"color: #000000; font-size: 18px; font-family: Arial;\">\n",
    "        Name: Qin Jiayue<br>\n",
    "        Student ID: A0294788B\n",
    "    </span>\n",
    "</div>\n"
   ]
  },
  {
   "cell_type": "code",
   "execution_count": 24,
   "id": "0f683b9d",
   "metadata": {
    "ExecuteTime": {
     "end_time": "2024-11-12T11:15:01.648271Z",
     "start_time": "2024-11-12T11:15:01.630275Z"
    }
   },
   "outputs": [],
   "source": [
    "import pandas as pd\n",
    "import matplotlib.pyplot as plt\n",
    "import seaborn as sns\n",
    "from wordcloud import WordCloud, STOPWORDS\n",
    "import re\n",
    "from IPython.core.interactiveshell import InteractiveShell\n",
    "import numpy as np\n",
    "import time\n",
    "from sklearn.decomposition import TruncatedSVD\n",
    "import pickle\n",
    "from tqdm import tqdm\n",
    "from funk_svd import SVD\n",
    "from funk_svd.dataset import fetch_ml_ratings\n",
    "from sklearn.metrics import mean_absolute_error\n",
    "from sklearn.metrics.pairwise import cosine_similarity\n",
    "from collections import defaultdict\n",
    "InteractiveShell.ast_node_interactivity = \"all\""
   ]
  },
  {
   "cell_type": "code",
   "execution_count": 2,
   "id": "46920fa3",
   "metadata": {
    "ExecuteTime": {
     "end_time": "2024-11-12T10:31:00.954428Z",
     "start_time": "2024-11-12T10:31:00.944419Z"
    }
   },
   "outputs": [],
   "source": [
    "# pip install wordcloud"
   ]
  },
  {
   "cell_type": "code",
   "execution_count": 25,
   "id": "97dfee09",
   "metadata": {
    "ExecuteTime": {
     "end_time": "2024-11-12T11:15:04.197830Z",
     "start_time": "2024-11-12T11:15:04.171504Z"
    }
   },
   "outputs": [],
   "source": [
    "read_path = './data/'\n",
    "save_path = './temp_results/'"
   ]
  },
  {
   "cell_type": "markdown",
   "id": "30387bca",
   "metadata": {},
   "source": [
    "# Dataset Description"
   ]
  },
  {
   "cell_type": "markdown",
   "id": "859d0741",
   "metadata": {},
   "source": [
    "## Dataset Overview"
   ]
  },
  {
   "cell_type": "code",
   "execution_count": 6,
   "id": "bce906ca",
   "metadata": {
    "ExecuteTime": {
     "end_time": "2024-11-12T10:31:53.453450Z",
     "start_time": "2024-11-12T10:31:25.059410Z"
    }
   },
   "outputs": [
    {
     "data": {
      "text/html": [
       "<div>\n",
       "<style scoped>\n",
       "    .dataframe tbody tr th:only-of-type {\n",
       "        vertical-align: middle;\n",
       "    }\n",
       "\n",
       "    .dataframe tbody tr th {\n",
       "        vertical-align: top;\n",
       "    }\n",
       "\n",
       "    .dataframe thead th {\n",
       "        text-align: right;\n",
       "    }\n",
       "</style>\n",
       "<table border=\"1\" class=\"dataframe\">\n",
       "  <thead>\n",
       "    <tr style=\"text-align: right;\">\n",
       "      <th></th>\n",
       "      <th>userId</th>\n",
       "      <th>movieId</th>\n",
       "      <th>rating</th>\n",
       "      <th>timestamp</th>\n",
       "    </tr>\n",
       "  </thead>\n",
       "  <tbody>\n",
       "    <tr>\n",
       "      <th>0</th>\n",
       "      <td>1</td>\n",
       "      <td>2</td>\n",
       "      <td>3.5</td>\n",
       "      <td>2005-04-02 23:53:47</td>\n",
       "    </tr>\n",
       "    <tr>\n",
       "      <th>1</th>\n",
       "      <td>1</td>\n",
       "      <td>29</td>\n",
       "      <td>3.5</td>\n",
       "      <td>2005-04-02 23:31:16</td>\n",
       "    </tr>\n",
       "    <tr>\n",
       "      <th>2</th>\n",
       "      <td>1</td>\n",
       "      <td>32</td>\n",
       "      <td>3.5</td>\n",
       "      <td>2005-04-02 23:33:39</td>\n",
       "    </tr>\n",
       "    <tr>\n",
       "      <th>3</th>\n",
       "      <td>1</td>\n",
       "      <td>47</td>\n",
       "      <td>3.5</td>\n",
       "      <td>2005-04-02 23:32:07</td>\n",
       "    </tr>\n",
       "    <tr>\n",
       "      <th>4</th>\n",
       "      <td>1</td>\n",
       "      <td>50</td>\n",
       "      <td>3.5</td>\n",
       "      <td>2005-04-02 23:29:40</td>\n",
       "    </tr>\n",
       "  </tbody>\n",
       "</table>\n",
       "</div>"
      ],
      "text/plain": [
       "   userId  movieId  rating            timestamp\n",
       "0       1        2     3.5  2005-04-02 23:53:47\n",
       "1       1       29     3.5  2005-04-02 23:31:16\n",
       "2       1       32     3.5  2005-04-02 23:33:39\n",
       "3       1       47     3.5  2005-04-02 23:32:07\n",
       "4       1       50     3.5  2005-04-02 23:29:40"
      ]
     },
     "execution_count": 6,
     "metadata": {},
     "output_type": "execute_result"
    },
    {
     "data": {
      "text/html": [
       "<div>\n",
       "<style scoped>\n",
       "    .dataframe tbody tr th:only-of-type {\n",
       "        vertical-align: middle;\n",
       "    }\n",
       "\n",
       "    .dataframe tbody tr th {\n",
       "        vertical-align: top;\n",
       "    }\n",
       "\n",
       "    .dataframe thead th {\n",
       "        text-align: right;\n",
       "    }\n",
       "</style>\n",
       "<table border=\"1\" class=\"dataframe\">\n",
       "  <thead>\n",
       "    <tr style=\"text-align: right;\">\n",
       "      <th></th>\n",
       "      <th>movieId</th>\n",
       "      <th>title</th>\n",
       "      <th>genres</th>\n",
       "    </tr>\n",
       "  </thead>\n",
       "  <tbody>\n",
       "    <tr>\n",
       "      <th>0</th>\n",
       "      <td>1</td>\n",
       "      <td>Toy Story (1995)</td>\n",
       "      <td>Adventure|Animation|Children|Comedy|Fantasy</td>\n",
       "    </tr>\n",
       "    <tr>\n",
       "      <th>1</th>\n",
       "      <td>2</td>\n",
       "      <td>Jumanji (1995)</td>\n",
       "      <td>Adventure|Children|Fantasy</td>\n",
       "    </tr>\n",
       "    <tr>\n",
       "      <th>2</th>\n",
       "      <td>3</td>\n",
       "      <td>Grumpier Old Men (1995)</td>\n",
       "      <td>Comedy|Romance</td>\n",
       "    </tr>\n",
       "    <tr>\n",
       "      <th>3</th>\n",
       "      <td>4</td>\n",
       "      <td>Waiting to Exhale (1995)</td>\n",
       "      <td>Comedy|Drama|Romance</td>\n",
       "    </tr>\n",
       "    <tr>\n",
       "      <th>4</th>\n",
       "      <td>5</td>\n",
       "      <td>Father of the Bride Part II (1995)</td>\n",
       "      <td>Comedy</td>\n",
       "    </tr>\n",
       "  </tbody>\n",
       "</table>\n",
       "</div>"
      ],
      "text/plain": [
       "   movieId                               title  \\\n",
       "0        1                    Toy Story (1995)   \n",
       "1        2                      Jumanji (1995)   \n",
       "2        3             Grumpier Old Men (1995)   \n",
       "3        4            Waiting to Exhale (1995)   \n",
       "4        5  Father of the Bride Part II (1995)   \n",
       "\n",
       "                                        genres  \n",
       "0  Adventure|Animation|Children|Comedy|Fantasy  \n",
       "1                   Adventure|Children|Fantasy  \n",
       "2                               Comedy|Romance  \n",
       "3                         Comedy|Drama|Romance  \n",
       "4                                       Comedy  "
      ]
     },
     "execution_count": 6,
     "metadata": {},
     "output_type": "execute_result"
    }
   ],
   "source": [
    "# load datasets\n",
    "ratings_df = pd.read_csv(read_path+'rating.csv')\n",
    "movies_df = pd.read_csv(read_path+'movie.csv')\n",
    "ratings_df.head()\n",
    "movies_df.head()"
   ]
  },
  {
   "cell_type": "code",
   "execution_count": 3,
   "id": "b2130ec6",
   "metadata": {
    "ExecuteTime": {
     "end_time": "2024-11-08T11:33:04.886646Z",
     "start_time": "2024-11-08T11:33:00.872415Z"
    }
   },
   "outputs": [
    {
     "data": {
      "text/html": [
       "<div>\n",
       "<style scoped>\n",
       "    .dataframe tbody tr th:only-of-type {\n",
       "        vertical-align: middle;\n",
       "    }\n",
       "\n",
       "    .dataframe tbody tr th {\n",
       "        vertical-align: top;\n",
       "    }\n",
       "\n",
       "    .dataframe thead th {\n",
       "        text-align: right;\n",
       "    }\n",
       "</style>\n",
       "<table border=\"1\" class=\"dataframe\">\n",
       "  <thead>\n",
       "    <tr style=\"text-align: right;\">\n",
       "      <th></th>\n",
       "      <th>userId</th>\n",
       "      <th>movieId</th>\n",
       "      <th>rating</th>\n",
       "    </tr>\n",
       "  </thead>\n",
       "  <tbody>\n",
       "    <tr>\n",
       "      <th>count</th>\n",
       "      <td>2.000026e+07</td>\n",
       "      <td>2.000026e+07</td>\n",
       "      <td>2.000026e+07</td>\n",
       "    </tr>\n",
       "    <tr>\n",
       "      <th>mean</th>\n",
       "      <td>6.904587e+04</td>\n",
       "      <td>9.041567e+03</td>\n",
       "      <td>3.525529e+00</td>\n",
       "    </tr>\n",
       "    <tr>\n",
       "      <th>std</th>\n",
       "      <td>4.003863e+04</td>\n",
       "      <td>1.978948e+04</td>\n",
       "      <td>1.051989e+00</td>\n",
       "    </tr>\n",
       "    <tr>\n",
       "      <th>min</th>\n",
       "      <td>1.000000e+00</td>\n",
       "      <td>1.000000e+00</td>\n",
       "      <td>5.000000e-01</td>\n",
       "    </tr>\n",
       "    <tr>\n",
       "      <th>25%</th>\n",
       "      <td>3.439500e+04</td>\n",
       "      <td>9.020000e+02</td>\n",
       "      <td>3.000000e+00</td>\n",
       "    </tr>\n",
       "    <tr>\n",
       "      <th>50%</th>\n",
       "      <td>6.914100e+04</td>\n",
       "      <td>2.167000e+03</td>\n",
       "      <td>3.500000e+00</td>\n",
       "    </tr>\n",
       "    <tr>\n",
       "      <th>75%</th>\n",
       "      <td>1.036370e+05</td>\n",
       "      <td>4.770000e+03</td>\n",
       "      <td>4.000000e+00</td>\n",
       "    </tr>\n",
       "    <tr>\n",
       "      <th>max</th>\n",
       "      <td>1.384930e+05</td>\n",
       "      <td>1.312620e+05</td>\n",
       "      <td>5.000000e+00</td>\n",
       "    </tr>\n",
       "  </tbody>\n",
       "</table>\n",
       "</div>"
      ],
      "text/plain": [
       "             userId       movieId        rating\n",
       "count  2.000026e+07  2.000026e+07  2.000026e+07\n",
       "mean   6.904587e+04  9.041567e+03  3.525529e+00\n",
       "std    4.003863e+04  1.978948e+04  1.051989e+00\n",
       "min    1.000000e+00  1.000000e+00  5.000000e-01\n",
       "25%    3.439500e+04  9.020000e+02  3.000000e+00\n",
       "50%    6.914100e+04  2.167000e+03  3.500000e+00\n",
       "75%    1.036370e+05  4.770000e+03  4.000000e+00\n",
       "max    1.384930e+05  1.312620e+05  5.000000e+00"
      ]
     },
     "execution_count": 3,
     "metadata": {},
     "output_type": "execute_result"
    },
    {
     "data": {
      "text/html": [
       "<div>\n",
       "<style scoped>\n",
       "    .dataframe tbody tr th:only-of-type {\n",
       "        vertical-align: middle;\n",
       "    }\n",
       "\n",
       "    .dataframe tbody tr th {\n",
       "        vertical-align: top;\n",
       "    }\n",
       "\n",
       "    .dataframe thead th {\n",
       "        text-align: right;\n",
       "    }\n",
       "</style>\n",
       "<table border=\"1\" class=\"dataframe\">\n",
       "  <thead>\n",
       "    <tr style=\"text-align: right;\">\n",
       "      <th></th>\n",
       "      <th>movieId</th>\n",
       "    </tr>\n",
       "  </thead>\n",
       "  <tbody>\n",
       "    <tr>\n",
       "      <th>count</th>\n",
       "      <td>27278.000000</td>\n",
       "    </tr>\n",
       "    <tr>\n",
       "      <th>mean</th>\n",
       "      <td>59855.480570</td>\n",
       "    </tr>\n",
       "    <tr>\n",
       "      <th>std</th>\n",
       "      <td>44429.314697</td>\n",
       "    </tr>\n",
       "    <tr>\n",
       "      <th>min</th>\n",
       "      <td>1.000000</td>\n",
       "    </tr>\n",
       "    <tr>\n",
       "      <th>25%</th>\n",
       "      <td>6931.250000</td>\n",
       "    </tr>\n",
       "    <tr>\n",
       "      <th>50%</th>\n",
       "      <td>68068.000000</td>\n",
       "    </tr>\n",
       "    <tr>\n",
       "      <th>75%</th>\n",
       "      <td>100293.250000</td>\n",
       "    </tr>\n",
       "    <tr>\n",
       "      <th>max</th>\n",
       "      <td>131262.000000</td>\n",
       "    </tr>\n",
       "  </tbody>\n",
       "</table>\n",
       "</div>"
      ],
      "text/plain": [
       "             movieId\n",
       "count   27278.000000\n",
       "mean    59855.480570\n",
       "std     44429.314697\n",
       "min         1.000000\n",
       "25%      6931.250000\n",
       "50%     68068.000000\n",
       "75%    100293.250000\n",
       "max    131262.000000"
      ]
     },
     "execution_count": 3,
     "metadata": {},
     "output_type": "execute_result"
    }
   ],
   "source": [
    "ratings_df.describe()\n",
    "movies_df.describe()"
   ]
  },
  {
   "cell_type": "markdown",
   "id": "340204e9",
   "metadata": {},
   "source": [
    "The rating is between 0.5 and 5."
   ]
  },
  {
   "cell_type": "code",
   "execution_count": 4,
   "id": "a93e0352",
   "metadata": {
    "ExecuteTime": {
     "end_time": "2024-11-08T11:33:28.118282Z",
     "start_time": "2024-11-08T11:33:28.084164Z"
    }
   },
   "outputs": [
    {
     "name": "stdout",
     "output_type": "stream",
     "text": [
      "<class 'pandas.core.frame.DataFrame'>\n",
      "RangeIndex: 20000263 entries, 0 to 20000262\n",
      "Data columns (total 4 columns):\n",
      " #   Column     Dtype  \n",
      "---  ------     -----  \n",
      " 0   userId     int64  \n",
      " 1   movieId    int64  \n",
      " 2   rating     float64\n",
      " 3   timestamp  object \n",
      "dtypes: float64(1), int64(2), object(1)\n",
      "memory usage: 610.4+ MB\n",
      "<class 'pandas.core.frame.DataFrame'>\n",
      "RangeIndex: 27278 entries, 0 to 27277\n",
      "Data columns (total 3 columns):\n",
      " #   Column   Non-Null Count  Dtype \n",
      "---  ------   --------------  ----- \n",
      " 0   movieId  27278 non-null  int64 \n",
      " 1   title    27278 non-null  object\n",
      " 2   genres   27278 non-null  object\n",
      "dtypes: int64(1), object(2)\n",
      "memory usage: 639.5+ KB\n"
     ]
    }
   ],
   "source": [
    "ratings_df.info()\n",
    "movies_df.info()"
   ]
  },
  {
   "cell_type": "markdown",
   "id": "11b5ff4c",
   "metadata": {},
   "source": [
    "#### Ratings Dataset (`rating.info()` Output)\n",
    "- **Dataset Size**: The ratings dataset contains **20,000,263 entries**, meaning there are over 20 million rows of user ratings.\n",
    "- **Columns**:\n",
    "  - `userId` (int64): Unique identifier for each user who provided a rating.\n",
    "  - `movieId` (int64): Unique identifier for each movie that was rated.\n",
    "  - `rating` (float64): Rating score provided by users, represented as a floating-point number.\n",
    "  - `timestamp` (object): The time at which each rating was provided, stored as an object (likely representing a timestamp format).\n",
    "- **Memory Usage**: Approximately **610.4 MB**.\n",
    "\n",
    "\n",
    "#### Movies Dataset (`movie.info()` Output)\n",
    "- **Dataset Size**: The movies dataset contains **27,278 entries**, indicating it includes information on over 27,000 movies.\n",
    "- **Columns**:\n",
    "  - `movieId` (int64): Unique identifier for each movie, which matches with the `movieId` in the ratings dataset.\n",
    "  - `title` (object): The title of the movie.\n",
    "  - `genres` (object): The genre(s) associated with each movie, stored as a string format (e.g., \"Action|Adventure|Sci-Fi\" for multiple genres).\n",
    "- **Memory Usage**: Approximately **639.5 KB**, which is significantly smaller than the ratings dataset.\n",
    "\n",
    "\n",
    "#### Observations\n",
    "- Both datasets share the `movieId` column, which will allow us to merge them for combined analyses.\n",
    "- The `timestamp` in the ratings dataset may need to be converted from an object to a datetime format for time-based analysis or feature engineering, like identifying rating trends over time."
   ]
  },
  {
   "cell_type": "code",
   "execution_count": 5,
   "id": "86d1ebe2",
   "metadata": {
    "ExecuteTime": {
     "end_time": "2024-11-08T11:40:34.210980Z",
     "start_time": "2024-11-08T11:40:32.508188Z"
    }
   },
   "outputs": [
    {
     "name": "stdout",
     "output_type": "stream",
     "text": [
      "Missing values in Ratings dataset:\n",
      "userId       0\n",
      "movieId      0\n",
      "rating       0\n",
      "timestamp    0\n",
      "dtype: int64\n",
      "\n",
      "Missing values in Movies dataset:\n",
      "movieId    0\n",
      "title      0\n",
      "genres     0\n",
      "dtype: int64\n"
     ]
    }
   ],
   "source": [
    "# Check for missing values\n",
    "ratings_missing = ratings_df.isnull().sum()\n",
    "movies_missing = movies_df.isnull().sum()\n",
    "\n",
    "print(\"Missing values in Ratings dataset:\")\n",
    "print(ratings_missing)\n",
    "print(\"\\nMissing values in Movies dataset:\")\n",
    "print(movies_missing)"
   ]
  },
  {
   "cell_type": "markdown",
   "id": "8b897fe3",
   "metadata": {},
   "source": [
    "Therefore, there is no missing value."
   ]
  },
  {
   "cell_type": "code",
   "execution_count": 9,
   "id": "15f62d46",
   "metadata": {
    "ExecuteTime": {
     "end_time": "2024-11-08T11:41:26.860349Z",
     "start_time": "2024-11-08T11:41:26.340516Z"
    }
   },
   "outputs": [
    {
     "name": "stdout",
     "output_type": "stream",
     "text": [
      "\n",
      "Unique movieId count in Ratings dataset: 26744\n",
      "Unique movieId count in Movies dataset: 27278\n",
      "\n",
      "Unique userId count in Ratings dataset: 138493\n"
     ]
    }
   ],
   "source": [
    "# Count unique movieId values in each dataset\n",
    "unique_movieId_ratings = ratings_df['movieId'].nunique()\n",
    "unique_movieId_movies = movies_df['movieId'].nunique()\n",
    "\n",
    "print(\"\\nUnique movieId count in Ratings dataset:\", unique_movieId_ratings)\n",
    "print(\"Unique movieId count in Movies dataset:\", unique_movieId_movies)\n",
    "\n",
    "# Count unique userId values in the Ratings dataset\n",
    "unique_userId_ratings = ratings_df['userId'].nunique()\n",
    "\n",
    "print(\"\\nUnique userId count in Ratings dataset:\", unique_userId_ratings)"
   ]
  },
  {
   "cell_type": "markdown",
   "id": "27a2453e",
   "metadata": {},
   "source": [
    "#### Unique `movieId` Count\n",
    "- The `movieId` column represents unique movie identifiers.\n",
    "- **Ratings Dataset**: There are **26,744 unique movie IDs**, which suggests that some movies are rated by multiple users.\n",
    "- **Movies Dataset**: There are **27,278 unique movie IDs**, which is slightly higher than in the ratings dataset. \n",
    "  - **Observation**: Some movies in the `movies` dataset may not have any ratings in the `ratings` dataset. This is common in recommendation datasets where not all items receive user interactions.\n",
    "\n",
    "#### Unique `userId` Count in Ratings Dataset\n",
    "- The `userId` column represents unique users who provided ratings.\n",
    "- **Result**: There are **138,493 unique users** in the ratings dataset."
   ]
  },
  {
   "cell_type": "code",
   "execution_count": 10,
   "id": "ab16f1eb",
   "metadata": {
    "ExecuteTime": {
     "end_time": "2024-11-08T11:59:08.252683Z",
     "start_time": "2024-11-08T11:58:23.369354Z"
    }
   },
   "outputs": [
    {
     "name": "stdout",
     "output_type": "stream",
     "text": [
      "Maximum number of movies rated by a user: 9254\n",
      "Minimum number of movies rated by a user: 20\n",
      "Maximum number of users who rated a movie: 67310\n",
      "Minimum number of users who rated a movie: 1\n"
     ]
    }
   ],
   "source": [
    "# Calculate the number of movies each user has rated\n",
    "user_movie_counts = ratings_df.groupby('userId')['movieId'].nunique()\n",
    "\n",
    "# Calculate the number of users who have rated each movie\n",
    "movie_user_counts = ratings_df.groupby('movieId')['userId'].nunique()\n",
    "\n",
    "# Get the maximum and minimum number of movies rated by a user\n",
    "user_max_movies = user_movie_counts.max()\n",
    "user_min_movies = user_movie_counts.min()\n",
    "\n",
    "# Get the maximum and minimum number of users who rated each movie\n",
    "movie_max_users = movie_user_counts.max()\n",
    "movie_min_users = movie_user_counts.min()\n",
    "\n",
    "# Print the results\n",
    "print(\"Maximum number of movies rated by a user:\", user_max_movies)\n",
    "print(\"Minimum number of movies rated by a user:\", user_min_movies)\n",
    "print(\"Maximum number of users who rated a movie:\", movie_max_users)\n",
    "print(\"Minimum number of users who rated a movie:\", movie_min_users)\n"
   ]
  },
  {
   "cell_type": "code",
   "execution_count": 7,
   "id": "e002dd50",
   "metadata": {
    "ExecuteTime": {
     "end_time": "2024-11-12T10:34:21.277827Z",
     "start_time": "2024-11-12T10:32:57.146309Z"
    }
   },
   "outputs": [
    {
     "data": {
      "text/plain": [
       "<Figure size 1008x576 with 0 Axes>"
      ]
     },
     "execution_count": 7,
     "metadata": {},
     "output_type": "execute_result"
    },
    {
     "data": {
      "text/plain": [
       "<BarContainer object of 26744 artists>"
      ]
     },
     "execution_count": 7,
     "metadata": {},
     "output_type": "execute_result"
    },
    {
     "data": {
      "text/plain": [
       "Text(0.5, 0, 'Average Movie Rating (Higher on the Left)')"
      ]
     },
     "execution_count": 7,
     "metadata": {},
     "output_type": "execute_result"
    },
    {
     "data": {
      "text/plain": [
       "Text(0, 0.5, 'Number of Ratings per Movie')"
      ]
     },
     "execution_count": 7,
     "metadata": {},
     "output_type": "execute_result"
    },
    {
     "data": {
      "text/plain": [
       "Text(0.5, 1.0, 'Number of Ratings per Movie vs. Average Movie Rating')"
      ]
     },
     "execution_count": 7,
     "metadata": {},
     "output_type": "execute_result"
    },
    {
     "data": {
      "text/plain": [
       "(array([0., 1., 2., 3., 4., 5., 6.]),\n",
       " [Text(0, 0, ''),\n",
       "  Text(0, 0, ''),\n",
       "  Text(0, 0, ''),\n",
       "  Text(0, 0, ''),\n",
       "  Text(0, 0, ''),\n",
       "  Text(0, 0, ''),\n",
       "  Text(0, 0, '')])"
      ]
     },
     "execution_count": 7,
     "metadata": {},
     "output_type": "execute_result"
    },
    {
     "data": {
      "text/plain": [
       "(array([    0., 10000., 20000., 30000., 40000., 50000., 60000., 70000.,\n",
       "        80000.]),\n",
       " [Text(0, 0, ''),\n",
       "  Text(0, 0, ''),\n",
       "  Text(0, 0, ''),\n",
       "  Text(0, 0, ''),\n",
       "  Text(0, 0, ''),\n",
       "  Text(0, 0, ''),\n",
       "  Text(0, 0, ''),\n",
       "  Text(0, 0, ''),\n",
       "  Text(0, 0, '')])"
      ]
     },
     "execution_count": 7,
     "metadata": {},
     "output_type": "execute_result"
    },
    {
     "data": {
      "image/png": "[encoded data removed]",
      "text/plain": [
       "<Figure size 1008x576 with 1 Axes>"
      ]
     },
     "metadata": {
      "needs_background": "light"
     },
     "output_type": "display_data"
    }
   ],
   "source": [
    "# Calculate the average rating and the number of ratings for each movie\n",
    "movie_rating_stats = ratings_df.groupby('movieId').agg(\n",
    "    average_rating=('rating', 'mean'),  # Calculate average rating\n",
    "    rating_count=('rating', 'count')    # Calculate rating count\n",
    ").reset_index()\n",
    "\n",
    "# Sort by average rating in descending order\n",
    "movie_rating_stats = movie_rating_stats.sort_values(by='average_rating', ascending=False)\n",
    "\n",
    "# Plot the bar chart\n",
    "plt.figure(figsize=(14, 8))\n",
    "plt.bar(movie_rating_stats['average_rating'], movie_rating_stats['rating_count'], width=0.1, color='skyblue')\n",
    "plt.xlabel(\"Average Movie Rating (Higher on the Left)\", fontsize=14)  # Adjust font size for x-axis label\n",
    "plt.ylabel(\"Number of Ratings per Movie\", fontsize=14)               # Adjust font size for y-axis label\n",
    "plt.title(\"Number of Ratings per Movie vs. Average Movie Rating\", fontsize=16)  # Adjust font size for title\n",
    "plt.xticks(fontsize=12)  # Adjust font size for x-ticks\n",
    "plt.yticks(fontsize=12)  # Adjust font size for y-ticks\n",
    "plt.gca().invert_xaxis()  # Reverse x-axis to display from high to low\n",
    "plt.show()\n"
   ]
  },
  {
   "cell_type": "markdown",
   "id": "d2c90d3a",
   "metadata": {},
   "source": [
    "#### Observations\n",
    "- **X-Axis (Average Movie Rating)**: Movies are sorted by their average rating, with higher-rated movies on the left side and lower-rated movies on the right. This arrangement provides insight into how the popularity (measured by rating count) varies with average rating.\n",
    "- **Y-Axis (Number of Ratings per Movie)**: The vertical axis shows the number of users who rated each movie.\n",
    "\n",
    "#### Insights\n",
    "- **Long-Tail Distribution**: We observe a long-tail distribution, where movies with high average ratings generally receive more ratings, while movies with lower ratings tend to have fewer interactions. This is typical in movie datasets, where popular movies accumulate more ratings.\n",
    "- **High Rating Cluster**: A notable number of movies have average ratings above 4, indicating that users tend to rate popular movies more favorably.\n",
    "- **Low Rating and Low Interaction**: Movies with low average ratings generally have fewer ratings, highlighting potential \"cold start\" items which may need special attention in recommendation systems.\n",
    "\n",
    "By examining this plot, we gain insights into the data distribution that can guide our approach in building and optimizing recommendation models."
   ]
  },
  {
   "cell_type": "code",
   "execution_count": 3,
   "id": "08c2701e",
   "metadata": {
    "ExecuteTime": {
     "end_time": "2024-11-08T14:09:55.065157Z",
     "start_time": "2024-11-08T14:09:41.898893Z"
    }
   },
   "outputs": [
    {
     "data": {
      "text/plain": [
       "<Figure size 1600x800 with 0 Axes>"
      ]
     },
     "execution_count": 3,
     "metadata": {},
     "output_type": "execute_result"
    },
    {
     "data": {
      "text/plain": [
       "<matplotlib.image.AxesImage at 0x143016a0910>"
      ]
     },
     "execution_count": 3,
     "metadata": {},
     "output_type": "execute_result"
    },
    {
     "data": {
      "text/plain": [
       "(-0.5, 3999.5, 1999.5, -0.5)"
      ]
     },
     "execution_count": 3,
     "metadata": {},
     "output_type": "execute_result"
    },
    {
     "data": {
      "image/png": "[encoded data removed]",
      "text/plain": [
       "<Figure size 1600x800 with 1 Axes>"
      ]
     },
     "metadata": {},
     "output_type": "display_data"
    }
   ],
   "source": [
    "# Process the genres field to generate a word cloud for genres\n",
    "# Split the genres by '|' to create a large list, then count the frequency of each genre\n",
    "\n",
    "movies_df['genres'] = movies_df['genres'].fillna(\"\").astype('str')\n",
    "all_genres = movies_df['genres'].str.split('|').sum()\n",
    "genre_counts = pd.Series(all_genres).value_counts()\n",
    "genre_wordcloud = WordCloud(stopwords=STOPWORDS, background_color='white', height=2000, width=4000).generate_from_frequencies(genre_counts)\n",
    "\n",
    "# Plot the word cloud\n",
    "plt.figure(figsize=(16,8))\n",
    "plt.imshow(genre_wordcloud)\n",
    "plt.axis('off')\n",
    "plt.show()\n"
   ]
  },
  {
   "cell_type": "markdown",
   "id": "8990ac1c",
   "metadata": {},
   "source": [
    "#### Word Cloud Observations\n",
    "- **Popular Genres**: Genres like \"Drama,\" \"Comedy,\" and \"Thriller\" appear larger, indicating they are common in the dataset.\n",
    "- **Less Frequent Genres**: Smaller genres, such as \"Film-Noir\" and \"Western,\" suggest they are less common."
   ]
  },
  {
   "cell_type": "code",
   "execution_count": 5,
   "id": "d3b236fa",
   "metadata": {
    "ExecuteTime": {
     "end_time": "2024-11-08T14:15:43.430620Z",
     "start_time": "2024-11-08T14:15:42.944259Z"
    }
   },
   "outputs": [
    {
     "name": "stdout",
     "output_type": "stream",
     "text": [
      "Top 5 Highest-Rated Movies:\n",
      "                                                title  average_rating\n",
      "19152               Barchester Chronicles, The (1982)             5.0\n",
      "21842                            Only Daughter (2013)             5.0\n",
      "17703                            Boys (Drenge) (1977)             5.0\n",
      "21656                       Linotype: The Film (2012)             5.0\n",
      "21658                             Rocaterrania (2009)             5.0\n",
      "17556             Summer Wishes, Winter Dreams (1973)             5.0\n",
      "25936                              Small Roads (2011)             5.0\n",
      "21762  Year Zero: The Silent Death of Cambodia (1979)             5.0\n",
      "21763                        Stealing a Nation (2004)             5.0\n",
      "21840                                   B-Side (2013)             5.0\n"
     ]
    }
   ],
   "source": [
    "# Calculate the average rating for each movie\n",
    "movie_ratings = ratings_df.groupby('movieId').agg(average_rating=('rating', 'mean')).reset_index()\n",
    "\n",
    "# Merge with the movies DataFrame to get movie titles\n",
    "top_rated_movies = movie_ratings.merge(movies_df[['movieId', 'title']], on='movieId')\n",
    "\n",
    "# Sort by average rating in descending order and select the top 10\n",
    "top_5_movies = top_rated_movies.sort_values(by='average_rating', ascending=False).head(10)\n",
    "\n",
    "# Output the titles of the top 10 highest-rated movies\n",
    "print(\"Top 5 Highest-Rated Movies:\")\n",
    "print(top_5_movies[['title', 'average_rating']])\n"
   ]
  },
  {
   "cell_type": "code",
   "execution_count": 11,
   "id": "e8a08fce",
   "metadata": {
    "ExecuteTime": {
     "end_time": "2024-11-12T10:48:28.118624Z",
     "start_time": "2024-11-12T10:48:23.810916Z"
    }
   },
   "outputs": [
    {
     "data": {
      "text/plain": [
       "<Figure size 720x432 with 0 Axes>"
      ]
     },
     "execution_count": 11,
     "metadata": {},
     "output_type": "execute_result"
    },
    {
     "data": {
      "text/plain": [
       "<AxesSubplot:xlabel='rating', ylabel='Density'>"
      ]
     },
     "execution_count": 11,
     "metadata": {},
     "output_type": "execute_result"
    },
    {
     "data": {
      "text/plain": [
       "Text(0.5, 1.0, 'Ratings per User for MovieLens Dataset')"
      ]
     },
     "execution_count": 11,
     "metadata": {},
     "output_type": "execute_result"
    },
    {
     "data": {
      "text/plain": [
       "Text(0.5, 0, 'Number of Ratings per User')"
      ]
     },
     "execution_count": 11,
     "metadata": {},
     "output_type": "execute_result"
    },
    {
     "data": {
      "text/plain": [
       "Text(0, 0.5, 'Proportion')"
      ]
     },
     "execution_count": 11,
     "metadata": {},
     "output_type": "execute_result"
    },
    {
     "data": {
      "image/png": "[encoded data removed]",
      "text/plain": [
       "<Figure size 720x432 with 1 Axes>"
      ]
     },
     "metadata": {
      "needs_background": "light"
     },
     "output_type": "display_data"
    }
   ],
   "source": [
    "# Ratings per user for MovieLens dataset\n",
    "ratings_per_user = ratings_df.groupby('userId')['rating'].count()\n",
    "\n",
    "plt.figure(figsize=(10, 6))\n",
    "sns.histplot(ratings_per_user, bins=30, kde=True, stat=\"density\")  # Use density to show proportions\n",
    "plt.title(\"Ratings per User for MovieLens Dataset\", fontsize=16)\n",
    "plt.xlabel(\"Number of Ratings per User\", fontsize=14)\n",
    "plt.ylabel(\"Proportion\", fontsize=14)  # Change label to indicate proportion\n",
    "plt.show()\n"
   ]
  },
  {
   "cell_type": "markdown",
   "id": "d56797de",
   "metadata": {},
   "source": [
    "#### Observations\n",
    "- **Skewed Distribution**: The histogram reveals a highly skewed distribution, with most users providing relatively few ratings, while a small number of users have rated hundreds or even thousands of movies.\n",
    "- **High Frequency at Low Counts**: The majority of users have rated fewer than 100 movies, indicating that most users interact with the platform on an occasional basis.\n"
   ]
  },
  {
   "cell_type": "markdown",
   "id": "596b98f2",
   "metadata": {},
   "source": [
    "## Data Processing"
   ]
  },
  {
   "cell_type": "code",
   "execution_count": 7,
   "id": "e7ac1c7a",
   "metadata": {
    "ExecuteTime": {
     "end_time": "2024-11-08T15:54:19.037387Z",
     "start_time": "2024-11-08T15:54:17.190709Z"
    }
   },
   "outputs": [
    {
     "name": "stdout",
     "output_type": "stream",
     "text": [
      "Distribution of ratings per user in the sampled data:\n",
      "count    10000.000000\n",
      "mean       436.512100\n",
      "std        527.207109\n",
      "min         20.000000\n",
      "25%        109.000000\n",
      "50%        259.000000\n",
      "75%        561.250000\n",
      "max       9254.000000\n",
      "dtype: float64\n"
     ]
    },
    {
     "data": {
      "text/plain": [
       "<Figure size 1000x600 with 0 Axes>"
      ]
     },
     "execution_count": 7,
     "metadata": {},
     "output_type": "execute_result"
    },
    {
     "data": {
      "text/plain": [
       "<Axes: ylabel='Count'>"
      ]
     },
     "execution_count": 7,
     "metadata": {},
     "output_type": "execute_result"
    },
    {
     "data": {
      "text/plain": [
       "Text(0.5, 0, 'Number of Ratings per User')"
      ]
     },
     "execution_count": 7,
     "metadata": {},
     "output_type": "execute_result"
    },
    {
     "data": {
      "text/plain": [
       "Text(0, 0.5, 'Frequency')"
      ]
     },
     "execution_count": 7,
     "metadata": {},
     "output_type": "execute_result"
    },
    {
     "data": {
      "text/plain": [
       "Text(0.5, 1.0, 'Ratings per User for Sampled MovieLens Dataset (10,000 users)')"
      ]
     },
     "execution_count": 7,
     "metadata": {},
     "output_type": "execute_result"
    },
    {
     "data": {
      "image/png": "[encoded data removed]",
      "text/plain": [
       "<Figure size 1000x600 with 1 Axes>"
      ]
     },
     "metadata": {},
     "output_type": "display_data"
    }
   ],
   "source": [
    "# Calculate the number of ratings each user has given\n",
    "user_rating_counts = ratings_df.groupby('userId').size()\n",
    "\n",
    "# Define the sample size\n",
    "sample_size = 10000\n",
    "\n",
    "# Sample users while keeping the original distribution\n",
    "# Use `sample` with `weights` based on the distribution of user rating counts\n",
    "sampled_users = user_rating_counts.sample(n=sample_size, weights=user_rating_counts, random_state=42)\n",
    "\n",
    "# Filter the original ratings DataFrame to include only the sampled users\n",
    "sampled_ratings_df = ratings_df[ratings_df['userId'].isin(sampled_users.index)]\n",
    "\n",
    "# Check the distribution of the sampled data\n",
    "print(\"Distribution of ratings per user in the sampled data:\")\n",
    "print(sampled_ratings_df.groupby('userId').size().describe())\n",
    "\n",
    "# Display a histogram to verify the distribution preservation\n",
    "\n",
    "plt.figure(figsize=(10, 6))\n",
    "sns.histplot(sampled_ratings_df.groupby('userId').size(), kde=True)\n",
    "plt.xlabel(\"Number of Ratings per User\")\n",
    "plt.ylabel(\"Frequency\")\n",
    "plt.title(\"Ratings per User for Sampled MovieLens Dataset (10,000 users)\")\n",
    "plt.show()\n"
   ]
  },
  {
   "cell_type": "code",
   "execution_count": 9,
   "id": "03db7e93",
   "metadata": {
    "ExecuteTime": {
     "end_time": "2024-11-08T15:58:09.374646Z",
     "start_time": "2024-11-08T15:57:33.958725Z"
    }
   },
   "outputs": [],
   "source": [
    "sampled_user_data = pd.merge(sampled_ratings_df, movies_df, on='movieId', how='left')\n",
    "\n",
    "# Function to extract year from the title\n",
    "def extract_year(title):\n",
    "    # Search for a year pattern (4 digits) within parentheses\n",
    "    match = re.search(r'\\((\\d{4})\\)', title)\n",
    "    return int(match.group(1)) if match else None\n",
    "\n",
    "sampled_user_data['year'] = sampled_user_data['title'].apply(extract_year)\n",
    "\n",
    "sampled_user_data.to_csv(save_path+\"sampled_user_data_20241108.csv\", index=False)"
   ]
  },
  {
   "cell_type": "code",
   "execution_count": 10,
   "id": "dc40652f",
   "metadata": {
    "ExecuteTime": {
     "end_time": "2024-11-08T16:00:03.637294Z",
     "start_time": "2024-11-08T16:00:03.624909Z"
    }
   },
   "outputs": [
    {
     "data": {
      "text/html": [
       "<div>\n",
       "<style scoped>\n",
       "    .dataframe tbody tr th:only-of-type {\n",
       "        vertical-align: middle;\n",
       "    }\n",
       "\n",
       "    .dataframe tbody tr th {\n",
       "        vertical-align: top;\n",
       "    }\n",
       "\n",
       "    .dataframe thead th {\n",
       "        text-align: right;\n",
       "    }\n",
       "</style>\n",
       "<table border=\"1\" class=\"dataframe\">\n",
       "  <thead>\n",
       "    <tr style=\"text-align: right;\">\n",
       "      <th></th>\n",
       "      <th>userId</th>\n",
       "      <th>movieId</th>\n",
       "      <th>rating</th>\n",
       "      <th>timestamp</th>\n",
       "      <th>title</th>\n",
       "      <th>genres</th>\n",
       "      <th>year</th>\n",
       "    </tr>\n",
       "  </thead>\n",
       "  <tbody>\n",
       "    <tr>\n",
       "      <th>0</th>\n",
       "      <td>2</td>\n",
       "      <td>3</td>\n",
       "      <td>4.0</td>\n",
       "      <td>2000-11-21 15:34:49</td>\n",
       "      <td>Grumpier Old Men (1995)</td>\n",
       "      <td>Comedy|Romance</td>\n",
       "      <td>1995.0</td>\n",
       "    </tr>\n",
       "    <tr>\n",
       "      <th>1</th>\n",
       "      <td>2</td>\n",
       "      <td>62</td>\n",
       "      <td>5.0</td>\n",
       "      <td>2000-11-21 15:29:58</td>\n",
       "      <td>Mr. Holland's Opus (1995)</td>\n",
       "      <td>Drama</td>\n",
       "      <td>1995.0</td>\n",
       "    </tr>\n",
       "    <tr>\n",
       "      <th>2</th>\n",
       "      <td>2</td>\n",
       "      <td>70</td>\n",
       "      <td>5.0</td>\n",
       "      <td>2000-11-21 15:31:31</td>\n",
       "      <td>From Dusk Till Dawn (1996)</td>\n",
       "      <td>Action|Comedy|Horror|Thriller</td>\n",
       "      <td>1996.0</td>\n",
       "    </tr>\n",
       "    <tr>\n",
       "      <th>3</th>\n",
       "      <td>2</td>\n",
       "      <td>110</td>\n",
       "      <td>4.0</td>\n",
       "      <td>2000-11-21 15:30:58</td>\n",
       "      <td>Braveheart (1995)</td>\n",
       "      <td>Action|Drama|War</td>\n",
       "      <td>1995.0</td>\n",
       "    </tr>\n",
       "    <tr>\n",
       "      <th>4</th>\n",
       "      <td>2</td>\n",
       "      <td>242</td>\n",
       "      <td>3.0</td>\n",
       "      <td>2000-11-21 15:32:56</td>\n",
       "      <td>Farinelli: il castrato (1994)</td>\n",
       "      <td>Drama|Musical</td>\n",
       "      <td>1994.0</td>\n",
       "    </tr>\n",
       "  </tbody>\n",
       "</table>\n",
       "</div>"
      ],
      "text/plain": [
       "   userId  movieId  rating            timestamp  \\\n",
       "0       2        3     4.0  2000-11-21 15:34:49   \n",
       "1       2       62     5.0  2000-11-21 15:29:58   \n",
       "2       2       70     5.0  2000-11-21 15:31:31   \n",
       "3       2      110     4.0  2000-11-21 15:30:58   \n",
       "4       2      242     3.0  2000-11-21 15:32:56   \n",
       "\n",
       "                           title                         genres    year  \n",
       "0        Grumpier Old Men (1995)                 Comedy|Romance  1995.0  \n",
       "1      Mr. Holland's Opus (1995)                          Drama  1995.0  \n",
       "2     From Dusk Till Dawn (1996)  Action|Comedy|Horror|Thriller  1996.0  \n",
       "3              Braveheart (1995)               Action|Drama|War  1995.0  \n",
       "4  Farinelli: il castrato (1994)                  Drama|Musical  1994.0  "
      ]
     },
     "execution_count": 10,
     "metadata": {},
     "output_type": "execute_result"
    }
   ],
   "source": [
    "sampled_user_data.head()"
   ]
  },
  {
   "cell_type": "code",
   "execution_count": 23,
   "id": "d065081b",
   "metadata": {
    "ExecuteTime": {
     "end_time": "2024-11-12T11:07:39.941537Z",
     "start_time": "2024-11-12T11:07:33.599552Z"
    }
   },
   "outputs": [
    {
     "name": "stdout",
     "output_type": "stream",
     "text": [
      "Maximum number of movies rated by a user: 9254\n",
      "Minimum number of movies rated by a user: 20\n",
      "Maximum number of users who rated a movie: 7167\n",
      "Minimum number of users who rated a movie: 1\n"
     ]
    }
   ],
   "source": [
    "# Calculate the number of movies each user has rated\n",
    "user_movie_counts = sampled_user_data.groupby('userId')['movieId'].nunique()\n",
    "\n",
    "# Calculate the number of users who have rated each movie\n",
    "movie_user_counts = sampled_user_data.groupby('movieId')['userId'].nunique()\n",
    "\n",
    "# Get the maximum and minimum number of movies rated by a user\n",
    "user_max_movies = user_movie_counts.max()\n",
    "user_min_movies = user_movie_counts.min()\n",
    "\n",
    "# Get the maximum and minimum number of users who rated each movie\n",
    "movie_max_users = movie_user_counts.max()\n",
    "movie_min_users = movie_user_counts.min()\n",
    "\n",
    "# Print the results\n",
    "print(\"Maximum number of movies rated by a user:\", user_max_movies)\n",
    "print(\"Minimum number of movies rated by a user:\", user_min_movies)\n",
    "print(\"Maximum number of users who rated a movie:\", movie_max_users)\n",
    "print(\"Minimum number of users who rated a movie:\", movie_min_users)"
   ]
  },
  {
   "cell_type": "markdown",
   "id": "ac914004",
   "metadata": {},
   "source": [
    "## Visualization"
   ]
  },
  {
   "cell_type": "code",
   "execution_count": 13,
   "id": "7e977634",
   "metadata": {
    "ExecuteTime": {
     "end_time": "2024-11-12T10:52:36.819150Z",
     "start_time": "2024-11-12T10:52:27.299328Z"
    }
   },
   "outputs": [],
   "source": [
    "sampled_user_data = pd.read_csv(read_path+\"sampled_user_data_20241108.csv\")"
   ]
  },
  {
   "cell_type": "code",
   "execution_count": 14,
   "id": "a29881bc",
   "metadata": {
    "ExecuteTime": {
     "end_time": "2024-11-12T10:52:36.849581Z",
     "start_time": "2024-11-12T10:52:36.826147Z"
    }
   },
   "outputs": [
    {
     "data": {
      "text/plain": [
       "(4365121, 7)"
      ]
     },
     "execution_count": 14,
     "metadata": {},
     "output_type": "execute_result"
    }
   ],
   "source": [
    "sampled_user_data.shape"
   ]
  },
  {
   "cell_type": "code",
   "execution_count": 13,
   "id": "d4a46c1e",
   "metadata": {
    "ExecuteTime": {
     "end_time": "2024-11-08T16:30:42.128122Z",
     "start_time": "2024-11-08T16:30:41.871560Z"
    }
   },
   "outputs": [
    {
     "data": {
      "text/plain": [
       "<Figure size 800x600 with 0 Axes>"
      ]
     },
     "execution_count": 13,
     "metadata": {},
     "output_type": "execute_result"
    },
    {
     "data": {
      "text/plain": [
       "<matplotlib.legend.Legend at 0x143097fbdd0>"
      ]
     },
     "execution_count": 13,
     "metadata": {},
     "output_type": "execute_result"
    },
    {
     "data": {
      "text/plain": [
       "Text(0.5, 1.0, 'Rating Distribution for the Sampled MovieLens Data')"
      ]
     },
     "execution_count": 13,
     "metadata": {},
     "output_type": "execute_result"
    },
    {
     "data": {
      "image/png": "[encoded data removed]",
      "text/plain": [
       "<Figure size 800x600 with 1 Axes>"
      ]
     },
     "metadata": {},
     "output_type": "display_data"
    }
   ],
   "source": [
    "# Plot the Donut Chart\n",
    "\n",
    "# Step 1: Calculate the count of each rating\n",
    "rating_counts = sampled_user_data['rating'].value_counts().sort_index()\n",
    "\n",
    "# Step 2: Calculate the percentage of each rating\n",
    "rating_percentages = rating_counts / rating_counts.sum() * 100\n",
    "\n",
    "# Step 3: Plot the donut chart without labels on the wedges\n",
    "plt.figure(figsize=(8, 6))\n",
    "wedges, _ = plt.pie(rating_percentages, startangle=90, counterclock=False, \n",
    "                    wedgeprops=dict(width=0.3, edgecolor='w'), \n",
    "                    autopct=None)\n",
    "\n",
    "# Step 4: Add legend with rating and percentage information\n",
    "labels = [f\"{rating} Stars - {percentage:.1f}%\" for rating, percentage in zip(rating_percentages.index, rating_percentages)]\n",
    "plt.legend(wedges, labels, title=\"Ratings\", loc=\"center left\", bbox_to_anchor=(1, 0, 0.5, 1))\n",
    "\n",
    "# Add title\n",
    "plt.title(\"Rating Distribution for the Sampled MovieLens Data\")\n",
    "\n",
    "# Display the plot\n",
    "plt.show()\n"
   ]
  },
  {
   "cell_type": "code",
   "execution_count": 15,
   "id": "6e60ada9",
   "metadata": {
    "ExecuteTime": {
     "end_time": "2024-11-12T10:52:53.837333Z",
     "start_time": "2024-11-12T10:52:53.437210Z"
    }
   },
   "outputs": [
    {
     "data": {
      "text/plain": [
       "<Figure size 576x432 with 0 Axes>"
      ]
     },
     "execution_count": 15,
     "metadata": {},
     "output_type": "execute_result"
    },
    {
     "data": {
      "text/plain": [
       "<BarContainer object of 10 artists>"
      ]
     },
     "execution_count": 15,
     "metadata": {},
     "output_type": "execute_result"
    },
    {
     "data": {
      "text/plain": [
       "Text(0.5, 1.0, 'Rating Frequency for Sampled Users')"
      ]
     },
     "execution_count": 15,
     "metadata": {},
     "output_type": "execute_result"
    },
    {
     "data": {
      "text/plain": [
       "Text(0.5, 0, 'Rating')"
      ]
     },
     "execution_count": 15,
     "metadata": {},
     "output_type": "execute_result"
    },
    {
     "data": {
      "text/plain": [
       "Text(0, 0.5, 'Frequency')"
      ]
     },
     "execution_count": 15,
     "metadata": {},
     "output_type": "execute_result"
    },
    {
     "data": {
      "text/plain": [
       "([<matplotlib.axis.XTick at 0x24f66459ac8>,\n",
       "  <matplotlib.axis.XTick at 0x24f66459240>,\n",
       "  <matplotlib.axis.XTick at 0x24f6645e2b0>,\n",
       "  <matplotlib.axis.XTick at 0x24f666395c0>,\n",
       "  <matplotlib.axis.XTick at 0x24f66444550>,\n",
       "  <matplotlib.axis.XTick at 0x24f66444908>,\n",
       "  <matplotlib.axis.XTick at 0x24f66444e10>,\n",
       "  <matplotlib.axis.XTick at 0x24f6644eb70>,\n",
       "  <matplotlib.axis.XTick at 0x24f6644e5f8>,\n",
       "  <matplotlib.axis.XTick at 0x24f6643f9b0>],\n",
       " [Text(0, 0, ''),\n",
       "  Text(0, 0, ''),\n",
       "  Text(0, 0, ''),\n",
       "  Text(0, 0, ''),\n",
       "  Text(0, 0, ''),\n",
       "  Text(0, 0, ''),\n",
       "  Text(0, 0, ''),\n",
       "  Text(0, 0, ''),\n",
       "  Text(0, 0, ''),\n",
       "  Text(0, 0, '')])"
      ]
     },
     "execution_count": 15,
     "metadata": {},
     "output_type": "execute_result"
    },
    {
     "data": {
      "image/png": "[encoded data removed]",
      "text/plain": [
       "<Figure size 576x432 with 1 Axes>"
      ]
     },
     "metadata": {
      "needs_background": "light"
     },
     "output_type": "display_data"
    }
   ],
   "source": [
    "# Calculate the frequency of each rating\n",
    "rating_counts = sampled_user_data['rating'].value_counts(normalize=True).sort_index()\n",
    "\n",
    "# Set up the figure layout and add spacing\n",
    "plt.figure(figsize=(8, 6))\n",
    "\n",
    "# Plot a bar chart of rating frequencies for active users\n",
    "plt.bar(rating_counts.index, rating_counts.values, color='skyblue', width=0.5)\n",
    "plt.title(\"Rating Frequency for Sampled Users\", fontsize=16)\n",
    "plt.xlabel(\"Rating\", fontsize=14)\n",
    "plt.ylabel(\"Frequency\", fontsize=14)\n",
    "plt.xticks(rating_counts.index)  # Set x-axis ticks to rating values\n",
    "\n",
    "plt.show()"
   ]
  },
  {
   "cell_type": "markdown",
   "id": "fa2f0920",
   "metadata": {},
   "source": [
    "\n",
    "The bar chart above illustrates the frequency distribution of movie ratings given by the sampled users in the dataset. This visualization helps us understand the overall sentiment and distribution of ratings in our sample.\n",
    "\n",
    "#### Observations\n",
    "- **Common Ratings**: The most frequent rating given by users is around 4.0, indicating that users tend to give higher ratings on average.\n",
    "- **Lower Ratings**: Ratings below 2.0 are relatively rare, suggesting that users are less likely to rate movies negatively.\n",
    "\n",
    "Therefore, it is necessary to carry out averaging when rating is used to calculate similarity\n"
   ]
  },
  {
   "cell_type": "markdown",
   "id": "11f28a18",
   "metadata": {},
   "source": [
    "# Content-based Recommendation Algorithm"
   ]
  },
  {
   "cell_type": "code",
   "execution_count": 1,
   "id": "986c8f87",
   "metadata": {
    "ExecuteTime": {
     "end_time": "2024-11-11T06:50:31.706505Z",
     "start_time": "2024-11-11T06:50:31.702042Z"
    }
   },
   "outputs": [],
   "source": [
    "# load data\n",
    "sampled_user_data = pd.read_csv(read_path+'sampled_user_data_20241108.csv')\n",
    "sampled_user_data.head()"
   ]
  },
  {
   "cell_type": "markdown",
   "id": "282b1f15",
   "metadata": {},
   "source": [
    "**Step: Generating Item Profiles Based on Genre Frequency for Similarity Calculation**\n",
    "\n",
    "In this step, we generate **item profiles** for each movie based on the frequency of genres, which will allow us to calculate similarity between movies.\n",
    "\n",
    "1. Using the `genres` column, we compute the frequency of each genre for all movies. By transforming the genre data into a frequency-based item profile matrix, we can represent each movie as a vector of genre-related terms. This structure enables efficient calculation of movie similarity based on genre features.\n",
    "   \n",
    "2. **Pre-calculating Movie Similarities**: To improve computational efficiency, we precompute the similarity between all movies using these item profiles. This precomputed similarity matrix will allow us to retrieve movie similarity scores quickly, avoiding redundant calculations during recommendations.\n",
    "\n",
    "This item profile matrix, stored as a `.pkl` file, provides a foundation for content-based recommendations by capturing the genre characteristics of each movie and enabling efficient similarity lookup.\n"
   ]
  },
  {
   "cell_type": "code",
   "execution_count": null,
   "id": "c35adf26",
   "metadata": {},
   "outputs": [],
   "source": [
    "def generate_item_profiles(user_data):\n",
    "    \"\"\"\n",
    "    Generate item profiles based on genres information for movies in a user data DataFrame.\n",
    "\n",
    "    Parameters:\n",
    "    - user_data (DataFrame): The DataFrame containing user movie ratings with columns 'movieId', 'title', and 'genres'.\n",
    "                             Each movie is associated with a specific genre in the 'genres' column.\n",
    "    - save_path (str): The directory path where the resulting item profiles DataFrame should be saved.\n",
    "    - file_name (str): The name of the file to save the item profiles as a .pkl file. Default is \"item_profiles.pkl\".\n",
    "\n",
    "    Returns:\n",
    "    - item_profiles (DataFrame): A DataFrame representing the item profile for each movie. Rows are indexed by movieId,\n",
    "                                 and columns represent different genre n-grams (single words and pairs of words).\n",
    "    \"\"\"\n",
    "\n",
    "    # Step 1: Remove duplicates to keep unique combinations of (movieId, title, genres)\n",
    "    unique_movies = user_data[['movieId', 'title', 'genres']].drop_duplicates()\n",
    "\n",
    "    # Step 2: Replace '|' with spaces in the genres column for CountVectorizer compatibility\n",
    "    unique_movies['genres'] = unique_movies['genres'].str.replace('|', ' ')\n",
    "\n",
    "    # Step 3: Use CountVectorizer to process genres and generate item profile matrix\n",
    "    cv = CountVectorizer(analyzer='word', ngram_range=(1, 2), stop_words='english')\n",
    "    count_matrix = cv.fit_transform(unique_movies['genres'])\n",
    "\n",
    "    # Step 4: Convert the item profile matrix to a DataFrame with movieId as the index\n",
    "    item_profiles = pd.DataFrame(count_matrix.toarray(), index=unique_movies['movieId'].unique())\n",
    "\n",
    "\n",
    "    # Print the shape of the item profile matrix\n",
    "    print(f\"Item profile matrix shape: {item_profiles.shape}\")\n",
    "\n",
    "    # Return the item profile DataFrame\n",
    "    return item_profiles\n",
    "\n",
    "sampled_user_item_profiles = generate_item_profiles(sampled_user_data)\n",
    "pickle.dump(sampled_user_item_profiles, open(save_path + 'sampled_CB_item_profiles_genres_20241109.pkl', 'wb'))"
   ]
  },
  {
   "cell_type": "markdown",
   "id": "7ef39256",
   "metadata": {},
   "source": [
    "**Step: Below code implements a content-based recommendation system by generating user profiles based on movie genres and recommending similar items. Below is an explanation of each function and its role in the recommendation pipeline:**\n",
    "\n",
    "1. `generate_user_profile(user_data, item_profiles)`\n",
    "This function generates a **user profile** for each user by calculating a weighted average of genre features from the movies they have rated. The key steps include:\n",
    "   - **Calculate Rating Deviations**: For each movie rated by the user, the rating is adjusted by subtracting the user's average rating to capture user preference relative to their baseline.\n",
    "   - **Aggregate Genre Features**: The adjusted ratings are used as weights to aggregate genre features from `item_profiles`.\n",
    "   - **Normalization**: The aggregated profile is normalized by the number of rated movies, resulting in a user profile that represents their genre preferences.\n",
    "\n",
    "Each user profile is stored in a dictionary with the user ID as the key and the profile vector as the value.\n",
    "\n",
    "2. `recommend_top_k(user_id, user_profiles, item_profiles, train_data, k=20)`\n",
    "This function recommends the top `k` movies for a specified user by comparing their profile with all item profiles using **cosine similarity**. The process includes:\n",
    "   - **Filter Rated Movies**: Exclude movies the user has already rated to avoid redundant recommendations.\n",
    "   - **Calculate Similarities**: Compute cosine similarity between the user profile and each unrated movie profile.\n",
    "   - **Select Top-K Recommendations**: Identify and return the top `k` most similar movies as recommendations.\n",
    "\n",
    "3. `split_train_test_by_user(data, k=1)`\n",
    "This function splits the dataset into **training and testing sets** for each user by selecting each user's last `k` ratings as the test set and using the rest as the training set. Key steps:\n",
    "   - **Sort by Timestamp**: Ensures that the test set contains the most recent interactions.\n",
    "   - **Split by User**: Extracts the last `k` ratings for each user and separates the remaining ratings as training data.\n",
    "\n",
    "This setup helps in evaluating the recommendation system by simulating real-world usage.\n",
    "\n",
    "4. `evaluate_hit_rate_at_k(test_data, recommendations, k=20)`\n",
    "This function evaluates the recommendations using **Hit Rate@K**, which measures the proportion of users for whom at least one relevant item appears in the top `k` recommendations. The process involves:\n",
    "   - **Identify Relevant Items**: For each user, retrieve movies they rated in the test set.\n",
    "   - **Check for Hits**: Count users for whom at least one movie in the top `k` recommendations matches the test set.\n",
    "   - **Calculate Hit Rate**: Compute the hit rate as the ratio of users with at least one hit.\n",
    "\n",
    "This metric gives a sense of how often the recommendation system successfully identifies relevant items for users.\n",
    "\n",
    "5. `run_content_based_experiment(user_data, item_profile_file, label, num_samples=10, sample_size=5000, k=20, save_path='./tmp_results/')`\n",
    "This function orchestrates the entire recommendation experiment, sampling users, generating recommendations, and evaluating the system’s performance. Steps include:\n",
    "   - **Load Item Profiles**: Load precomputed item profiles from a specified file.\n",
    "   - **Sampling Users**: Randomly select a subset of users for each experiment iteration.\n",
    "   - **Data Filtering**: Filter item profiles based on movies released within the timeframe of sampled user ratings to ensure relevance.\n",
    "   - **Generate Recommendations**: For each sampled user, recommend top `k` movies using the `recommend_top_k` function.\n",
    "   - **Evaluate Performance**: Measure the Hit Rate@K for each sample and record the time taken.\n",
    "\n",
    "The results are stored in a DataFrame, capturing hit rates and runtime for each sample iteration, which can be analyzed to assess the recommendation system’s effectiveness.\n"
   ]
  },
  {
   "cell_type": "code",
   "execution_count": null,
   "id": "e983b2fe",
   "metadata": {},
   "outputs": [],
   "source": [
    "# Function to generate user profiles based on user ratings and item profiles\n",
    "def generate_user_profile(user_data, item_profiles, user_id_col='userId', movie_id_col='movieId', rating_col='rating'):\n",
    "    \"\"\"\n",
    "    Generate a user profile by calculating weighted average genre features for each user.\n",
    "\n",
    "    Parameters:\n",
    "    - user_data (DataFrame): The DataFrame containing user ratings with columns 'userId', 'movieId', and 'rating'.\n",
    "    - item_profiles (DataFrame): The DataFrame containing item profiles with genre-related features for each movie.\n",
    "    - user_id_col (str): Column name for user IDs.\n",
    "    - movie_id_col (str): Column name for movie IDs.\n",
    "    - rating_col (str): Column name for ratings.\n",
    "\n",
    "    Returns:\n",
    "    - user_profiles (dict): A dictionary where each key is a user ID, and each value is the user's profile vector.\n",
    "    \"\"\"\n",
    "    \n",
    "    def calculate_single_user_profile(user_id):\n",
    "        # Get all ratings for the specified user\n",
    "        user_ratings = user_data[user_data[user_id_col] == user_id]\n",
    "        # Initialize an empty profile vector with the same number of dimensions as the item profile features\n",
    "        profile = np.zeros(item_profiles.shape[1])\n",
    "        # Calculate the mean rating for the user\n",
    "        mean_rating = user_ratings[rating_col].mean()\n",
    "        # Count the number of unique movies rated by the user\n",
    "        movie_count = user_ratings[movie_id_col].nunique()\n",
    "\n",
    "        # Update the profile vector based on each rated movie\n",
    "        for _, row in user_ratings.iterrows():\n",
    "            movie_id = row[movie_id_col]\n",
    "            rating = row[rating_col]\n",
    "            if movie_id in item_profiles.index:\n",
    "                # Weight each item's genre features by the user's rating deviation from their mean\n",
    "                profile += (rating - mean_rating) * item_profiles.loc[movie_id].values\n",
    "\n",
    "        # Normalize the profile vector by dividing by the number of movies rated (plus a small epsilon to avoid division by zero)\n",
    "        return profile / (movie_count + 1e-10)\n",
    "\n",
    "    # Generate profiles for all unique users\n",
    "    return {\n",
    "        user_id: calculate_single_user_profile(user_id)\n",
    "        for user_id in tqdm(user_data[user_id_col].unique(), desc=\"Generating user profiles\")\n",
    "    }\n",
    "\n",
    "# Function to recommend top-k items for a specific user based on content similarity\n",
    "def recommend_top_k(user_id, user_profiles, item_profiles, train_data, k=20):\n",
    "    \"\"\"\n",
    "    Recommend top-k items for a user based on cosine similarity between user profile and item profiles.\n",
    "\n",
    "    Parameters:\n",
    "    - user_id (int): The ID of the user to recommend items for.\n",
    "    - user_profiles (dict): Dictionary of user profiles.\n",
    "    - item_profiles (DataFrame): DataFrame of item profiles with genre features.\n",
    "    - train_data (DataFrame): Training data containing user-item interactions.\n",
    "    - k (int): Number of top recommendations to return.\n",
    "\n",
    "    Returns:\n",
    "    - list: List of recommended movie IDs.\n",
    "    \"\"\"\n",
    "    user_profile = user_profiles.get(user_id)\n",
    "    if user_profile is None:\n",
    "        return []\n",
    "\n",
    "    # Calculate cosine similarity between the user's profile and all item profiles\n",
    "    similarity_scores = cosine_similarity([user_profile], item_profiles.values).flatten()\n",
    "    # Get movie IDs that the user has already rated\n",
    "    rated_movie_ids = train_data[train_data['userId'] == user_id]['movieId'].unique()\n",
    "    all_movie_ids = set(item_profiles.index)\n",
    "    # Identify unrated movie IDs\n",
    "    unrated_movie_ids = list(all_movie_ids - set(rated_movie_ids))\n",
    "\n",
    "    # Get similarity scores for unrated movies\n",
    "    unrated_indices = [item_profiles.index.get_loc(movie_id) for movie_id in unrated_movie_ids]\n",
    "    unrated_similarities = similarity_scores[unrated_indices]\n",
    "\n",
    "    # Find the indices of the top-k recommended movies\n",
    "    top_k_indices = np.argsort(unrated_similarities)[-k:][::-1]\n",
    "    return [unrated_movie_ids[i] for i in top_k_indices]\n",
    "\n",
    "# Function to split data into training and testing sets for each user\n",
    "def split_train_test_by_user(data, k=1):\n",
    "    \"\"\"\n",
    "    Splits the data into training and testing sets for each user.\n",
    "    Each user's last `k` ratings are used for the test set, and the rest are for the training set.\n",
    "    \n",
    "    Parameters:\n",
    "    - data (pd.DataFrame): The dataset containing user ratings with columns 'userId', 'movieId', 'rating', and 'timestamp'.\n",
    "    - k (int): Number of last ratings per user to use as the test set.\n",
    "\n",
    "    Returns:\n",
    "    - train_data (pd.DataFrame): The training set containing all but the last `k` ratings for each user.\n",
    "    - test_data (pd.DataFrame): The test set containing the last `k` ratings for each user.\n",
    "    \"\"\"\n",
    "    # Sort data by user and timestamp to ensure the last `k` ratings are the most recent\n",
    "    data = data.sort_values(['userId', 'timestamp']).reset_index(drop=True)\n",
    "\n",
    "    # Separate the last `k` ratings for each user\n",
    "    test_data = data.groupby('userId').tail(k)\n",
    "    train_data = data.drop(test_data.index)\n",
    "\n",
    "    return train_data, test_data\n",
    "\n",
    "# Evaluation function to compute Hit Rate@K\n",
    "def evaluate_hit_rate_at_k(test_data, recommendations, k=20):\n",
    "    \"\"\"\n",
    "    Evaluates the recommendation results using Hit Rate@K.\n",
    "    \n",
    "    Parameters:\n",
    "    - test_data (DataFrame): DataFrame containing the test data with actual user-item interactions.\n",
    "    - recommendations (dict): Dictionary containing recommended items per user.\n",
    "    - k (int): Number of recommendations considered for evaluation.\n",
    "    \n",
    "    Returns:\n",
    "    - hit_rate (float): Proportion of users for whom at least one relevant item is recommended.\n",
    "    \"\"\"\n",
    "    hits = 0  # Count users with at least one hit\n",
    "\n",
    "    for user_id, recommended_movies in recommendations.items():\n",
    "        # Retrieve relevant items (items rated by the user in the test set)\n",
    "        relevant_movies = test_data[test_data['userId'] == user_id]['movieId'].unique()\n",
    "        \n",
    "        # Check if there is at least one hit in the recommended movies\n",
    "        if len(set(recommended_movies) & set(relevant_movies)) > 0:\n",
    "            hits += 1\n",
    "\n",
    "    # Calculate Hit Rate as the proportion of users with at least one hit\n",
    "    hit_rate = hits / len(recommendations) if len(recommendations) > 0 else 0\n",
    "    return hit_rate\n",
    "\n",
    "# Modified function for user sampling, recommendation, and evaluation\n",
    "def run_content_based_experiment(user_data, item_profile_file, label, num_samples=10, sample_size=5000, k=20):\n",
    "    \"\"\"\n",
    "    Runs a content-based recommendation experiment by sampling users, generating recommendations,\n",
    "    and evaluating them using Hit Rate@K.\n",
    "    \n",
    "    Parameters:\n",
    "    - user_data (DataFrame): Dataset containing user ratings.\n",
    "    - item_profile_file (str): Filename of the item profile file to load.\n",
    "    - label (str): Label to identify the experiment.\n",
    "    - num_samples (int): Number of samples to draw.\n",
    "    - sample_size (int): Number of users to sample per iteration.\n",
    "    - k (int): Number of recommendations to generate per user.\n",
    "    \n",
    "    Returns:\n",
    "    - results (DataFrame): DataFrame containing hit rate and time taken for each sample.\n",
    "    \"\"\"\n",
    "    # Load item profiles\n",
    "    item_profiles = pickle.load(open(save_path + item_profile_file, 'rb'))\n",
    "    results = []\n",
    "\n",
    "    for i in range(num_samples):\n",
    "        # Sample users\n",
    "        sampled_users = user_data['userId'].drop_duplicates().sample(sample_size, random_state=i)\n",
    "        sampled_data = user_data[user_data['userId'].isin(sampled_users)]\n",
    "        \n",
    "        # Filter item profiles based on movie release date within the sampled users' rating period\n",
    "        sampled_data['timestamp'] = pd.to_datetime(sampled_data['timestamp'])\n",
    "        sampled_data['year'] = pd.to_datetime(sampled_data['year'], format='%Y')\n",
    "        max_timestamp = sampled_data['timestamp'].max()\n",
    "        filtered_item_profiles = item_profiles[item_profiles.index.isin(\n",
    "            sampled_data[sampled_data['year'] <= max_timestamp]['movieId'].unique()\n",
    "        )]\n",
    "\n",
    "        # Split data into training and testing sets\n",
    "        train_data, test_data = split_train_test_by_user(sampled_data, k=1)\n",
    "        \n",
    "        # Generate user profiles\n",
    "        user_profiles = generate_user_profile(train_data, filtered_item_profiles)\n",
    "\n",
    "        # Generate recommendations and record time taken\n",
    "        test_user_ids = test_data['userId'].unique()\n",
    "        start_time = time.time()\n",
    "        recommendations = {\n",
    "            user_id: recommend_top_k(user_id, user_profiles, filtered_item_profiles, train_data, k)\n",
    "            for user_id in tqdm(test_user_ids, desc=\"Generating recommendations\")\n",
    "        }\n",
    "        elapsed_time = time.time() - start_time\n",
    "\n",
    "        # Evaluate recommendations using Hit Rate\n",
    "        hit_rate = evaluate_hit_rate_at_k(test_data, recommendations, k=k)\n",
    "\n",
    "        # Store results\n",
    "        results.append({\n",
    "            'label': label,\n",
    "            'sample_round': i + 1,\n",
    "            'hit_rate': hit_rate,\n",
    "            'time': elapsed_time\n",
    "        })\n",
    "        print(f\"{label} - Sample {i+1}: Hit Rate@{k}={hit_rate:.4f}, Time={elapsed_time:.2f}s\")\n",
    "\n",
    "    return pd.DataFrame(results)\n"
   ]
  },
  {
   "cell_type": "code",
   "execution_count": null,
   "id": "2d37772f",
   "metadata": {},
   "outputs": [],
   "source": [
    "all_results = run_content_based_experiment(\n",
    "    sampled_user_data, \n",
    "    item_profile_file='sampled_CB_item_profiles_genres_20241109.pkl', \n",
    "    label='sampled', \n",
    "    num_samples=10, \n",
    "    sample_size=5000\n",
    ")\n",
    "\n",
    "\n",
    "print(\"\\nFinal Results:\")\n",
    "print(all_results)\n",
    "\n",
    "all_results.to_csv(save_path+\"CB_hr_results_20241109.csv\", index=False)\n",
    "print(f\"Results saved\")"
   ]
  },
  {
   "cell_type": "markdown",
   "id": "116a6c64",
   "metadata": {},
   "source": [
    "# Item-based Recommendation Algorithm"
   ]
  },
  {
   "cell_type": "markdown",
   "id": "aa330006",
   "metadata": {},
   "source": [
    "This code implements an item-based collaborative filtering recommendation system that precomputes item similarities to recommend top-K items to users. The system uses user ratings data to evaluate recommendation effectiveness with the Hit Rate@K metric. Below is a breakdown of the code's main components:\n",
    "\n",
    "1. **Data Loading and Setup**:\n",
    "   - The user ratings data is loaded, and parameters are set for the number of repetitions (`num_repeats`) and the number of items to recommend (`k`).\n",
    "\n",
    "2. **Function Definitions**:\n",
    "   - **`split_train_test_by_user`**: This function splits user data into training and testing sets. Each user’s last interaction(s) are used for testing, with the remainder for training.\n",
    "   - **`precompute_top_k_similar_items`**: This function precomputes the top-K most similar items for each item in the dataset. This helps speed up recommendations by avoiding repeated similarity calculations.\n",
    "   - **`recommend_top_k_items`**: This function generates recommendations for a user by combining ratings with item similarities. The top-K items are selected based on accumulated scores from similar items not yet rated by the user.\n",
    "   - **`test_recommendation_time`**: This function measures the time taken to generate recommendations for multiple users.\n",
    "   - **`evaluate_hit_rate_at_k`**: This function computes the Hit Rate@K metric, which indicates how often relevant items appear in the top-K recommendations. It is calculated as the average hit rate across all users.\n",
    "\n",
    "3. **Running the Experiment**:\n",
    "   - The code iterates through 10 repetitions, where each iteration randomly samples 5000 users, splits their data into training and testing sets, and constructs a user-item matrix.\n",
    "   - For each sampled dataset, item similarity is calculated, and the top-K similar items are precomputed to optimize recommendations.\n",
    "   - Recommendations are then generated, and the elapsed time is recorded.\n",
    "   - The Hit Rate@K metric is evaluated, capturing the recommendation system’s accuracy.\n",
    "\n",
    "4. **Recording and Saving Results**:\n",
    "   - Each iteration's mean Hit Rate@20 and recommendation time are recorded. After completing all repetitions, results are saved to a CSV file for analysis.\n",
    "\n",
    "This modular structure allows the code to be reusable for similar item-based recommendation tasks and facilitates evaluating different recommendation system configurations using Hit Rate@K.\n"
   ]
  },
  {
   "cell_type": "code",
   "execution_count": null,
   "id": "69a02b2d",
   "metadata": {},
   "outputs": [],
   "source": [
    "# Load data\n",
    "sampled_user_data = pd.read_csv(read_path+'sampled_user_data_20241108.csv')\n",
    "\n",
    "# Define the number of sampling repetitions\n",
    "num_repeats = 10\n",
    "results = []\n",
    "\n",
    "def split_train_test_by_user(data, k=1):\n",
    "    \"\"\"\n",
    "    Splits the dataset into training and testing sets by user.\n",
    "    \n",
    "    Parameters:\n",
    "    - data (DataFrame): Dataset containing user ratings sorted by userId and timestamp.\n",
    "    - k (int): Number of ratings to assign to the test set per user.\n",
    "    \n",
    "    Returns:\n",
    "    - train_data (DataFrame): Training data excluding the last k ratings per user.\n",
    "    - test_data (DataFrame): Testing data containing the last k ratings per user.\n",
    "    \"\"\"\n",
    "    data = data.sort_values(['userId', 'timestamp']).reset_index(drop=True)\n",
    "    test_data = data.groupby('userId').tail(k)\n",
    "    train_data = data.drop(test_data.index)\n",
    "    return train_data, test_data\n",
    "\n",
    "def precompute_top_k_similar_items(similarity_matrix, k=50):\n",
    "    \"\"\"\n",
    "    Precomputes the top-K similar items for each item in the similarity matrix.\n",
    "    \n",
    "    Parameters:\n",
    "    - similarity_matrix (DataFrame): Matrix containing item similarity scores.\n",
    "    - k (int): Number of most similar items to store for each item.\n",
    "    \n",
    "    Returns:\n",
    "    - top_k_similar (dict): Dictionary mapping each item to its top-K similar items.\n",
    "    \"\"\"\n",
    "    top_k_similar = {}\n",
    "    for movie in tqdm(similarity_matrix.columns, desc=\"Compute top-K similar movies\"):\n",
    "        top_k_similar[movie] = similarity_matrix[movie].nlargest(k + 1).drop(movie, errors='ignore').index.tolist()\n",
    "    return top_k_similar\n",
    "\n",
    "def recommend_top_k_items(user_id, train_data, user_item_matrix, top_k_similar_items, k=20):\n",
    "    \"\"\"\n",
    "    Generates top-K item recommendations for a user based on item similarity.\n",
    "    \n",
    "    Parameters:\n",
    "    - user_id (int): The ID of the user to generate recommendations for.\n",
    "    - train_data (DataFrame): Training dataset with user-item interactions.\n",
    "    - user_item_matrix (DataFrame): User-item matrix with ratings.\n",
    "    - top_k_similar_items (dict): Dictionary of top-K similar items for each item.\n",
    "    - k (int): Number of recommendations to generate.\n",
    "    \n",
    "    Returns:\n",
    "    - recommended_items (list): List of recommended item IDs for the user.\n",
    "    \"\"\"\n",
    "    rated_movies = train_data[train_data['userId'] == user_id]['movieId'].unique()\n",
    "    scores = {}\n",
    "    \n",
    "    for movie in rated_movies:\n",
    "        rating = user_item_matrix.loc[user_id, movie]\n",
    "        for similar_movie in top_k_similar_items.get(movie, []):\n",
    "            if similar_movie not in rated_movies:\n",
    "                scores.setdefault(similar_movie, 0)\n",
    "                scores[similar_movie] += rating\n",
    "\n",
    "    recommended_items = sorted(scores, key=scores.get, reverse=True)[:k]\n",
    "    return recommended_items\n",
    "\n",
    "def test_recommendation_time(test_user_ids, train_data, user_item_matrix, top_k_similar_items, k=20):\n",
    "    \"\"\"\n",
    "    Measures the time taken to generate recommendations for multiple users.\n",
    "    \n",
    "    Parameters:\n",
    "    - test_user_ids (array): Array of user IDs to generate recommendations for.\n",
    "    - train_data (DataFrame): Training dataset with user-item interactions.\n",
    "    - user_item_matrix (DataFrame): User-item matrix with ratings.\n",
    "    - top_k_similar_items (dict): Dictionary of top-K similar items for each item.\n",
    "    - k (int): Number of recommendations to generate per user.\n",
    "    \n",
    "    Returns:\n",
    "    - recommendations (dict): Dictionary mapping user IDs to lists of recommended items.\n",
    "    - elapsed_time (float): Total time taken to generate recommendations.\n",
    "    \"\"\"\n",
    "    recommendations = {}\n",
    "    start_time = time.time()\n",
    "    \n",
    "    for user_id in tqdm(test_user_ids, desc=\"Generating item-based recommendations\"):\n",
    "        recommendations[user_id] = recommend_top_k_items(\n",
    "            user_id, train_data, user_item_matrix, top_k_similar_items, k\n",
    "        )\n",
    "    \n",
    "    elapsed_time = time.time() - start_time\n",
    "    return recommendations, elapsed_time\n",
    "\n",
    "def evaluate_hit_rate_at_k(test_data, recommendations, k=20):\n",
    "    \"\"\"\n",
    "    Evaluates the Hit Rate@K for a set of recommendations.\n",
    "    \n",
    "    Parameters:\n",
    "    - test_data (DataFrame): Testing dataset with user-item interactions.\n",
    "    - recommendations (dict): Dictionary mapping user IDs to recommended item lists.\n",
    "    - k (int): Number of recommendations generated per user.\n",
    "    \n",
    "    Returns:\n",
    "    - mean_hit_rate (float): Average Hit Rate@K across all users.\n",
    "    \"\"\"\n",
    "    hit_rates = []\n",
    "    for user_id, recommended_movies in recommendations.items():\n",
    "        relevant_movies = test_data[test_data['userId'] == user_id]['movieId'].unique()\n",
    "        hit = 1 if set(recommended_movies) & set(relevant_movies) else 0\n",
    "        hit_rates.append(hit)\n",
    "    \n",
    "    mean_hit_rate = np.mean(hit_rates)\n",
    "    return mean_hit_rate\n",
    "\n",
    "# Repeat sampling and evaluation 10 times\n",
    "for i in range(num_repeats):\n",
    "    print(f\"\\nIteration {i+1}/{num_repeats}\")\n",
    "    \n",
    "    # Randomly sample 5000 users\n",
    "    sampled_users = sampled_user_data['userId'].drop_duplicates().sample(5000, random_state=i)\n",
    "    sampled_data = sampled_user_data[sampled_user_data['userId'].isin(sampled_users)]\n",
    "    \n",
    "    # Split dataset\n",
    "    train_data, test_data = split_train_test_by_user(sampled_data, k=1)\n",
    "    \n",
    "    # Construct user-item matrix\n",
    "    train_user_item_matrix_df = train_data.pivot_table(index='userId', columns='movieId', values='rating').fillna(0)\n",
    "    \n",
    "    # Calculate item similarity matrix\n",
    "    mean_centered_matrix = train_user_item_matrix_df - train_user_item_matrix_df.mean()\n",
    "    mean_centered_matrix = mean_centered_matrix.fillna(0)\n",
    "    item_similarity = cosine_similarity(mean_centered_matrix.T)\n",
    "    item_similarity_df = pd.DataFrame(item_similarity, index=train_user_item_matrix_df.columns, columns=train_user_item_matrix_df.columns)\n",
    "    \n",
    "    # Precompute similar items\n",
    "    top_k_similar_items = precompute_top_k_similar_items(item_similarity_df, k=50)\n",
    "    \n",
    "    # Perform recommendations and calculate time\n",
    "    test_user_ids = test_data['userId'].unique()\n",
    "    recommendations, recommendation_time = test_recommendation_time(\n",
    "        test_user_ids, train_data, train_user_item_matrix_df, top_k_similar_items, k=20\n",
    "    )\n",
    "    \n",
    "    # Calculate Hit Rate@K\n",
    "    hit_rate = evaluate_hit_rate_at_k(test_data, recommendations, k=20)\n",
    "    \n",
    "    # Record results\n",
    "    results.append({\n",
    "        'Iteration': i + 1,\n",
    "        'Mean Hit Rate@20': hit_rate,\n",
    "        'Recommendation Time (seconds)': recommendation_time\n",
    "    })\n",
    "\n",
    "# Save results to CSV file\n",
    "results_df = pd.DataFrame(results)\n",
    "results_df.to_csv(save_path+'IBCF_hr_results_20241109.csv', index=False)\n",
    "print(\"\\nResults saved\")\n"
   ]
  },
  {
   "cell_type": "markdown",
   "id": "026cf619",
   "metadata": {},
   "source": [
    "# SVD Recommendation Algorithm"
   ]
  },
  {
   "cell_type": "markdown",
   "id": "e2779520",
   "metadata": {},
   "source": [
    "This code performs an item recommendation experiment using an item-based collaborative filtering approach. It implements Singular Value Decomposition (SVD) for dimensionality reduction and evaluates recommendations with Hit Rate@K. Here’s a summary of each part:\n",
    "\n",
    "1. **Data Loading and Initialization**:\n",
    "   - The dataset is loaded from a CSV file, and an empty list, `all_results`, is initialized to store evaluation results across iterations.\n",
    "\n",
    "2. **Function Definitions**:\n",
    "   - **`split_train_test_by_user`**: Splits the data into training and testing sets by selecting each user's last interaction for testing and using the rest for training.\n",
    "   - **`recommend_top_k`**: Generates top-K item recommendations by excluding items that the user has already rated.\n",
    "   - **`evaluate_hit_rate`**: Calculates Hit Rate@K by checking if at least one recommended item matches a relevant item (i.e., with a rating ≥ 4) in the test set.\n",
    "\n",
    "3. **Main Experiment Loop**:\n",
    "   - The experiment is repeated 10 times for different user samples.\n",
    "   - **Step 1**: 5000 users are randomly sampled.\n",
    "   - **Step 2**: The sampled data is used to build a user-item matrix, then split into training and testing sets.\n",
    "   - **Step 3**: SVD is applied to the training matrix, creating user and item factor matrices. The predicted matrix is then computed as the dot product of these factors.\n",
    "   - **Step 4**: Recommendations are evaluated using Hit Rate@K, and the time taken for each evaluation is recorded.\n",
    "   - **Step 5**: Results, including Hit Rate@20 and time, are saved for each iteration.\n",
    "\n",
    "4. **Saving Results**:\n",
    "   - After all iterations, the results are saved to a CSV file, capturing the performance of the recommendation system over multiple iterations for future analysis.\n",
    "\n",
    "This modular approach allows for easy adjustments to parameters, such as the number of components in SVD or the sample size, enabling flexibility in testing recommendation effectiveness under various configurations.\n"
   ]
  },
  {
   "cell_type": "code",
   "execution_count": null,
   "id": "5f113ea6",
   "metadata": {},
   "outputs": [],
   "source": [
    "# Load data\n",
    "sampled_user_data = pd.read_csv(read_path+'sampled_user_data_20241108.csv')\n",
    "\n",
    "# Initialize a list to store evaluation results\n",
    "all_results = []\n",
    "\n",
    "# Define a function to split training and testing sets\n",
    "def split_train_test_by_user(data, k=1):\n",
    "    \"\"\"\n",
    "    Splits the data into training and testing sets by user.\n",
    "    The last 'k' interactions per user are assigned to the test set, the rest to training.\n",
    "\n",
    "    Parameters:\n",
    "    - data (DataFrame): The dataset sorted by userId and timestamp.\n",
    "    - k (int): The number of interactions to assign to the test set per user.\n",
    "\n",
    "    Returns:\n",
    "    - train_data (DataFrame): Training set.\n",
    "    - test_data (DataFrame): Testing set.\n",
    "    \"\"\"\n",
    "    data = data.sort_values(['userId', 'timestamp']).reset_index(drop=True)\n",
    "    test_data = data.groupby('userId').tail(k)\n",
    "    train_data = data.drop(test_data.index)\n",
    "    return train_data, test_data\n",
    "\n",
    "# Define a function to recommend top-K items for a user\n",
    "def recommend_top_k(user_id, predicted_df, train_matrix, k=20):\n",
    "    \"\"\"\n",
    "    Recommends top-K items to a user by excluding items already rated.\n",
    "\n",
    "    Parameters:\n",
    "    - user_id (int): The user ID for whom recommendations are generated.\n",
    "    - predicted_df (DataFrame): Predicted ratings for items.\n",
    "    - train_matrix (DataFrame): User-item matrix with ratings.\n",
    "    - k (int): Number of recommendations.\n",
    "\n",
    "    Returns:\n",
    "    - top_k_recommendations (list): List of recommended item IDs.\n",
    "    \"\"\"\n",
    "    user_ratings = predicted_df.loc[user_id]\n",
    "    rated_items = train_matrix.loc[user_id][train_matrix.loc[user_id] > 0].index\n",
    "    unrated_ratings = user_ratings[~user_ratings.index.isin(rated_items)]\n",
    "    top_k_recommendations = unrated_ratings.nlargest(k).index.tolist()\n",
    "    return top_k_recommendations\n",
    "\n",
    "# Define an evaluation function (using Hit Rate@K)\n",
    "def evaluate_hit_rate(test_data, predicted_df, train_matrix, k=20):\n",
    "    \"\"\"\n",
    "    Evaluates the Hit Rate@K for recommendations.\n",
    "\n",
    "    Parameters:\n",
    "    - test_data (DataFrame): Testing set with user-item interactions.\n",
    "    - predicted_df (DataFrame): Predicted ratings for items.\n",
    "    - train_matrix (DataFrame): User-item matrix with ratings.\n",
    "    - k (int): Number of recommendations.\n",
    "\n",
    "    Returns:\n",
    "    - hit_rate (float): Hit Rate@K.\n",
    "    \"\"\"\n",
    "    hits = 0\n",
    "    total_users = test_data['userId'].nunique()\n",
    "    \n",
    "    for user_id in tqdm(test_data['userId'].unique(), desc=\"Evaluating Hit Rate\"):\n",
    "        relevant_items = test_data[(test_data['userId'] == user_id) & (test_data['rating'] >= 4)]['movieId'].values\n",
    "        recommended_items = recommend_top_k(user_id, predicted_df, train_matrix, k)\n",
    "        \n",
    "        # Calculate Hit Rate\n",
    "        if len(set(recommended_items) & set(relevant_items)) > 0:\n",
    "            hits += 1\n",
    "\n",
    "    # Hit Rate is the proportion of users with at least one hit in recommendations\n",
    "    hit_rate = hits / total_users if total_users > 0 else 0\n",
    "    return hit_rate\n",
    "\n",
    "# Main loop: Perform 10 rounds of sampling and evaluation\n",
    "for iteration in range(10):\n",
    "    # Step 1: Randomly sample 5000 users\n",
    "    sampled_users = sampled_user_data['userId'].drop_duplicates().sample(5000, random_state=iteration)\n",
    "    sampled_data = sampled_user_data[sampled_user_data['userId'].isin(sampled_users)]\n",
    "\n",
    "    # Step 2: Construct User-Item rating matrix and split into train and test sets\n",
    "    user_item_matrix = sampled_data.pivot(index='userId', columns='movieId', values='rating').fillna(0)\n",
    "    train_data, test_data = split_train_test_by_user(sampled_data, k=1)\n",
    "\n",
    "    # Construct the training matrix, keeping only training set ratings\n",
    "    train_matrix = user_item_matrix.copy()\n",
    "    for _, row in test_data.iterrows():\n",
    "        train_matrix.at[row['userId'], row['movieId']] = 0  # Set test set ratings to zero in training matrix\n",
    "\n",
    "    # Step 3: Perform SVD decomposition\n",
    "    n_components = 20\n",
    "    svd = TruncatedSVD(n_components=n_components, random_state=42)\n",
    "    user_factors = svd.fit_transform(train_matrix)\n",
    "    item_factors = svd.components_.T\n",
    "    predicted_matrix = np.dot(user_factors, item_factors.T)\n",
    "    predicted_df = pd.DataFrame(predicted_matrix, index=train_matrix.index, columns=train_matrix.columns)\n",
    "\n",
    "    # Step 4: Evaluate recommendation results\n",
    "    start_time = time.time()\n",
    "    hit_rate = evaluate_hit_rate(test_data, predicted_df, train_matrix, k=20)\n",
    "    elapsed_time = time.time() - start_time\n",
    "\n",
    "    # Step 5: Record results\n",
    "    all_results.append({\n",
    "        'iteration': iteration + 1,\n",
    "        'hit_rate': hit_rate,\n",
    "        'time': elapsed_time\n",
    "    })\n",
    "\n",
    "    # Output current results\n",
    "    print(f\"Iteration: {iteration + 1}\")\n",
    "    print(f\"Hit Rate@20: {hit_rate:.4f}\")\n",
    "    print(f\"Elapsed Time: {elapsed_time:.2f} seconds\\n\")\n",
    "\n",
    "# Save results to a CSV file\n",
    "all_results_df = pd.DataFrame(all_results)\n",
    "all_results_df.to_csv(save_path+'SVD_results_hit_rate_20241108.csv', index=False)\n"
   ]
  },
  {
   "cell_type": "markdown",
   "id": "33022ce3",
   "metadata": {},
   "source": [
    "# Funk-SVD"
   ]
  },
  {
   "cell_type": "markdown",
   "id": "581c7c7a",
   "metadata": {},
   "source": [
    "This code implements a collaborative filtering recommendation system using Funk-SVD, which is then evaluated based on Hit Rate@K. The code performs iterative sampling, training, and evaluation to assess the system’s recommendation accuracy.\n",
    "\n",
    "**Key Steps:**\n",
    "\n",
    "1. **Data Loading and Preparation**:\n",
    "   - The sampled user data is loaded from a CSV file for analysis. \n",
    "\n",
    "2. **Function Definitions**:\n",
    "   - **`split_train_test_by_user`**: This function splits the dataset by selecting each user’s last interaction as the test set, with the remaining data as the training set.\n",
    "   - **`recommend_top_k_funk_svd`**: Generates top-K recommendations for a user by predicting ratings for unrated items based on Funk-SVD model output.\n",
    "   - **`evaluate_hit_rate_funk_svd`**: Calculates Hit Rate@K by comparing recommended items against relevant items in the test set. If a relevant item appears in the recommendations, the user is counted as a hit.\n",
    "   - **`run_evaluation`**: This function performs the main experiment loop, sampling users, splitting data, training the Funk-SVD model, and evaluating the recommendations over multiple iterations.\n",
    "\n",
    "3. **Experiment Workflow**:\n",
    "   - **Sampling**: In each iteration, 5000 users are sampled from the dataset to create a subset for evaluation.\n",
    "   - **Data Splitting**: Data is split into training and testing sets. The training data is further split into training and validation subsets for model tuning.\n",
    "   - **Model Training**: Funk-SVD is trained on the training subset using specified parameters (learning rate, regularization, etc.).\n",
    "   - **Evaluation**: The Hit Rate@K metric is calculated for each user in the test set to determine the effectiveness of the recommendations. Elapsed time for this evaluation is recorded.\n",
    "\n",
    "4. **Results Storage**:\n",
    "   - The hit rate and evaluation time for each iteration are recorded. After all iterations, results are saved to a CSV file, allowing further analysis of recommendation performance over multiple samples.\n",
    "\n",
    "This code structure enables flexible testing of different recommendation scenarios by adjusting parameters, such as the number of factors in Funk-SVD or the sampling size. The use of Hit Rate@K offers a straightforward measure of the recommendation system’s accuracy in retrieving relevant items.\n"
   ]
  },
  {
   "cell_type": "code",
   "execution_count": null,
   "id": "a9412da4",
   "metadata": {},
   "outputs": [],
   "source": [
    "# Install Funk-SVD library\n",
    "# pip install git+https://github.com/gbolmier/funk-svd\n",
    "sampled_user_data = pd.read_csv(read_path+'sampled_user_data_20241108.csv')\n",
    "\n",
    "# Define a function to split data into training and testing sets for each user\n",
    "def split_train_test_by_user(data, k=1):\n",
    "    \"\"\"\n",
    "    Splits the data into training and testing sets by selecting the last `k` ratings for each user.\n",
    "\n",
    "    Parameters:\n",
    "    - data (pd.DataFrame): The dataset with user ratings, containing columns 'userId', 'movieId', 'rating', and 'timestamp'.\n",
    "    - k (int): Number of most recent ratings per user to allocate to the test set.\n",
    "\n",
    "    Returns:\n",
    "    - train_data (pd.DataFrame): Training data excluding the last `k` ratings for each user.\n",
    "    - test_data (pd.DataFrame): Test data containing only the last `k` ratings per user.\n",
    "    \"\"\"\n",
    "    # Sort data by user ID and timestamp\n",
    "    data = data.sort_values(['u_id', 'timestamp']).reset_index(drop=True)\n",
    "\n",
    "    # Separate the last `k` ratings for each user\n",
    "    test_data = data.groupby('u_id').tail(k)\n",
    "    train_data = data.drop(test_data.index)\n",
    "\n",
    "    return train_data, test_data\n",
    "\n",
    "# Step 3: Create a recommendation function to generate Top-K recommendations\n",
    "def recommend_top_k_funk_svd(user_id, svd_model, train_data, k=20):\n",
    "    \"\"\"\n",
    "    Recommends top-K items to a user by predicting ratings for items not yet rated.\n",
    "\n",
    "    Parameters:\n",
    "    - user_id (int): User ID for whom recommendations are made.\n",
    "    - svd_model: Trained Funk-SVD model to generate predictions.\n",
    "    - train_data (pd.DataFrame): Training dataset to identify items the user has already rated.\n",
    "    - k (int): Number of items to recommend.\n",
    "\n",
    "    Returns:\n",
    "    - top_k_recommendations (list): List of item IDs for top-K recommendations.\n",
    "    \"\"\"\n",
    "    rated_items = train_data[train_data['u_id'] == user_id]['i_id'].unique()\n",
    "    all_items = set(train_data['i_id'].unique())\n",
    "    unrated_items = all_items - set(rated_items)\n",
    "\n",
    "    # Predict ratings for unrated items and get the top-K\n",
    "    predictions = [(item, svd_model.predict_pair(user_id, item)) for item in unrated_items]\n",
    "    top_k_recommendations = sorted(predictions, key=lambda x: x[1], reverse=True)[:k]\n",
    "    \n",
    "    return [item for item, _ in top_k_recommendations]\n",
    "\n",
    "# Step 4: Evaluate the Funk-SVD recommendation algorithm with Hit Rate@K\n",
    "def evaluate_hit_rate_funk_svd(test_data, svd_model, train_data, k=20):\n",
    "    \"\"\"\n",
    "    Evaluates the Hit Rate@K for Funk-SVD recommendations.\n",
    "\n",
    "    Parameters:\n",
    "    - test_data (pd.DataFrame): Test dataset to assess the model.\n",
    "    - svd_model: Trained Funk-SVD model to make predictions.\n",
    "    - train_data (pd.DataFrame): Training data to exclude rated items in recommendations.\n",
    "    - k (int): Number of items to recommend.\n",
    "\n",
    "    Returns:\n",
    "    - hit_rate (float): The Hit Rate@K, representing the proportion of users with at least one correct recommendation.\n",
    "    \"\"\"\n",
    "    hit_count = 0\n",
    "    total_users = len(test_data['u_id'].unique())\n",
    "    \n",
    "    for user_id in tqdm(test_data['u_id'].unique(), desc=\"Evaluating Funk-SVD for test users\"):\n",
    "        relevant_items = test_data[(test_data['u_id'] == user_id) & (test_data['rating'] >= 4)]['i_id'].values\n",
    "        recommended_items = recommend_top_k_funk_svd(user_id, svd_model, train_data, k=k)\n",
    "        \n",
    "        # Check if any recommended item is in the relevant items\n",
    "        if len(set(recommended_items) & set(relevant_items)) > 0:\n",
    "            hit_count += 1\n",
    "\n",
    "    hit_rate = hit_count / total_users if total_users > 0 else 0\n",
    "    return hit_rate\n",
    "\n",
    "# Define a function to run sampling, training, and evaluation\n",
    "def run_evaluation(data, user_type, iterations=10, k=20):\n",
    "    \"\"\"\n",
    "    Performs sampling, trains the Funk-SVD model, and evaluates recommendations.\n",
    "\n",
    "    Parameters:\n",
    "    - data (pd.DataFrame): Full dataset.\n",
    "    - user_type (str): Label indicating the type of user group for sampling.\n",
    "    - iterations (int): Number of iterations to run.\n",
    "    - k (int): Number of recommendations to generate per user.\n",
    "\n",
    "    Returns:\n",
    "    - results (list): List containing hit rate and time taken for each iteration.\n",
    "    \"\"\"\n",
    "    results = []\n",
    "\n",
    "    for iteration in range(iterations):\n",
    "        print(iteration)\n",
    "        print(user_type)\n",
    "        \n",
    "        # Sample 5000 users\n",
    "        sampled_users = data['userId'].drop_duplicates().sample(5000, random_state=iteration)\n",
    "        sampled_data = data[data['userId'].isin(sampled_users)]\n",
    "        \n",
    "        # Rename columns and split into train and test sets\n",
    "        sampled_data = sampled_data.rename(columns={sampled_data.columns[0]: 'u_id', sampled_data.columns[1]: 'i_id'})\n",
    "        train_data, test_data = split_train_test_by_user(sampled_data, k=1)\n",
    "        \n",
    "        # Further split the train data for model training and validation\n",
    "        train = train_data.sample(frac=0.8, random_state=7)\n",
    "        val = train_data.drop(train.index.tolist()).sample(frac=0.5, random_state=8)\n",
    "        test = train_data.drop(train.index.tolist()).drop(val.index.tolist())\n",
    "\n",
    "        # Train Funk-SVD model\n",
    "        svd = SVD(lr=0.001, reg=0.01, n_epochs=200, n_factors=20, early_stopping=True, shuffle=False, min_rating=0, max_rating=5)\n",
    "        svd.fit(X=train, X_val=val)\n",
    "        \n",
    "        # Evaluate hit rate and record time taken\n",
    "        start_time = time.time()\n",
    "        hit_rate = evaluate_hit_rate_funk_svd(test_data, svd, train, k=k)\n",
    "        elapsed_time = time.time() - start_time\n",
    "\n",
    "        # Append result to the list\n",
    "        results.append({\n",
    "            'iteration': iteration + 1,\n",
    "            'user_type': user_type,\n",
    "            'hit_rate': hit_rate,\n",
    "            'time': elapsed_time\n",
    "        })\n",
    "        print(hit_rate)\n",
    "\n",
    "    return results\n",
    "\n",
    "# Run evaluation and save results\n",
    "all_results = run_evaluation(sampled_user_data, 'sampled')\n",
    "all_results_df = pd.DataFrame(all_results)\n",
    "all_results_df.to_csv(save_path+'funkSVD_hr_results_20241109.csv', index=False)\n",
    "print(\"Results saved\")\n"
   ]
  },
  {
   "cell_type": "markdown",
   "id": "6d516065",
   "metadata": {},
   "source": [
    "# Results"
   ]
  },
  {
   "cell_type": "markdown",
   "id": "63267f19",
   "metadata": {},
   "source": [
    "Combine all results into an Excel file named `hitrate_result_20241110.csv`, then create box plots for Hit Rate and Time."
   ]
  },
  {
   "cell_type": "code",
   "execution_count": 26,
   "id": "dc25fe8a",
   "metadata": {
    "ExecuteTime": {
     "end_time": "2024-11-12T11:15:09.643622Z",
     "start_time": "2024-11-12T11:15:09.610369Z"
    }
   },
   "outputs": [
    {
     "data": {
      "text/html": [
       "<div>\n",
       "<style scoped>\n",
       "    .dataframe tbody tr th:only-of-type {\n",
       "        vertical-align: middle;\n",
       "    }\n",
       "\n",
       "    .dataframe tbody tr th {\n",
       "        vertical-align: top;\n",
       "    }\n",
       "\n",
       "    .dataframe thead th {\n",
       "        text-align: right;\n",
       "    }\n",
       "</style>\n",
       "<table border=\"1\" class=\"dataframe\">\n",
       "  <thead>\n",
       "    <tr style=\"text-align: right;\">\n",
       "      <th></th>\n",
       "      <th>method</th>\n",
       "      <th>iteration</th>\n",
       "      <th>hit_rate</th>\n",
       "      <th>time</th>\n",
       "    </tr>\n",
       "  </thead>\n",
       "  <tbody>\n",
       "    <tr>\n",
       "      <th>0</th>\n",
       "      <td>SVD</td>\n",
       "      <td>1</td>\n",
       "      <td>0.0618</td>\n",
       "      <td>19.326150</td>\n",
       "    </tr>\n",
       "    <tr>\n",
       "      <th>1</th>\n",
       "      <td>SVD</td>\n",
       "      <td>2</td>\n",
       "      <td>0.0632</td>\n",
       "      <td>18.642563</td>\n",
       "    </tr>\n",
       "    <tr>\n",
       "      <th>2</th>\n",
       "      <td>SVD</td>\n",
       "      <td>3</td>\n",
       "      <td>0.0660</td>\n",
       "      <td>19.035683</td>\n",
       "    </tr>\n",
       "    <tr>\n",
       "      <th>3</th>\n",
       "      <td>SVD</td>\n",
       "      <td>4</td>\n",
       "      <td>0.0622</td>\n",
       "      <td>18.823900</td>\n",
       "    </tr>\n",
       "    <tr>\n",
       "      <th>4</th>\n",
       "      <td>SVD</td>\n",
       "      <td>5</td>\n",
       "      <td>0.0650</td>\n",
       "      <td>18.796939</td>\n",
       "    </tr>\n",
       "  </tbody>\n",
       "</table>\n",
       "</div>"
      ],
      "text/plain": [
       "  method  iteration  hit_rate       time\n",
       "0    SVD          1    0.0618  19.326150\n",
       "1    SVD          2    0.0632  18.642563\n",
       "2    SVD          3    0.0660  19.035683\n",
       "3    SVD          4    0.0622  18.823900\n",
       "4    SVD          5    0.0650  18.796939"
      ]
     },
     "execution_count": 26,
     "metadata": {},
     "output_type": "execute_result"
    }
   ],
   "source": [
    "hitrate_results_df = pd.read_csv(save_path+'hitrate_result_20241110.csv')\n",
    "hitrate_results_df.head()"
   ]
  },
  {
   "cell_type": "code",
   "execution_count": 28,
   "id": "cf3ba6ec",
   "metadata": {
    "ExecuteTime": {
     "end_time": "2024-11-12T11:18:11.541654Z",
     "start_time": "2024-11-12T11:18:10.596166Z"
    }
   },
   "outputs": [
    {
     "data": {
      "text/plain": [
       "<Figure size 864x432 with 0 Axes>"
      ]
     },
     "execution_count": 28,
     "metadata": {},
     "output_type": "execute_result"
    },
    {
     "data": {
      "text/plain": [
       "<AxesSubplot:xlabel='method', ylabel='hit_rate'>"
      ]
     },
     "execution_count": 28,
     "metadata": {},
     "output_type": "execute_result"
    },
    {
     "data": {
      "text/plain": [
       "Text(0.5, 1.0, 'Comparison of Hit Rates by Recommendation Method')"
      ]
     },
     "execution_count": 28,
     "metadata": {},
     "output_type": "execute_result"
    },
    {
     "data": {
      "text/plain": [
       "Text(0.5, 0, 'Recommendation Method')"
      ]
     },
     "execution_count": 28,
     "metadata": {},
     "output_type": "execute_result"
    },
    {
     "data": {
      "text/plain": [
       "Text(0, 0.5, 'Hit Rate')"
      ]
     },
     "execution_count": 28,
     "metadata": {},
     "output_type": "execute_result"
    },
    {
     "data": {
      "text/plain": [
       "(array([0, 1, 2, 3]),\n",
       " [Text(0, 0, 'SVD'),\n",
       "  Text(1, 0, 'Funk-SVD'),\n",
       "  Text(2, 0, 'CB'),\n",
       "  Text(3, 0, 'IBCF')])"
      ]
     },
     "execution_count": 28,
     "metadata": {},
     "output_type": "execute_result"
    },
    {
     "data": {
      "text/plain": [
       "(array([-0.01,  0.  ,  0.01,  0.02,  0.03,  0.04,  0.05,  0.06,  0.07,\n",
       "         0.08,  0.09]),\n",
       " [Text(0, 0, ''),\n",
       "  Text(0, 0, ''),\n",
       "  Text(0, 0, ''),\n",
       "  Text(0, 0, ''),\n",
       "  Text(0, 0, ''),\n",
       "  Text(0, 0, ''),\n",
       "  Text(0, 0, ''),\n",
       "  Text(0, 0, ''),\n",
       "  Text(0, 0, ''),\n",
       "  Text(0, 0, ''),\n",
       "  Text(0, 0, '')])"
      ]
     },
     "execution_count": 28,
     "metadata": {},
     "output_type": "execute_result"
    },
    {
     "data": {
      "image/png": "[encoded data removed]",
      "text/plain": [
       "<Figure size 864x432 with 1 Axes>"
      ]
     },
     "metadata": {
      "needs_background": "light"
     },
     "output_type": "display_data"
    }
   ],
   "source": [
    "# Set the figure size for the plot\n",
    "plt.figure(figsize=(12, 6))\n",
    "\n",
    "# Create a box plot to compare hit rates across different recommendation methods\n",
    "sns.boxplot(data=hitrate_results_df, x=\"method\", y=\"hit_rate\")\n",
    "\n",
    "# Add a title and axis labels to the plot\n",
    "plt.title(\"Comparison of Hit Rates by Recommendation Method\", fontsize=16)\n",
    "plt.xlabel(\"Recommendation Method\", fontsize=14)\n",
    "plt.ylabel(\"Hit Rate\", fontsize=14)\n",
    "\n",
    "plt.xticks(fontsize=14)\n",
    "plt.yticks(fontsize=14)\n",
    "\n",
    "plt.savefig(save_path+\"hitrate.png\", format='png', dpi=300)\n",
    "\n",
    "# Display the plot\n",
    "plt.show()\n",
    "\n"
   ]
  },
  {
   "cell_type": "code",
   "execution_count": 29,
   "id": "50b3fefa",
   "metadata": {
    "ExecuteTime": {
     "end_time": "2024-11-12T11:18:32.999589Z",
     "start_time": "2024-11-12T11:18:32.086526Z"
    }
   },
   "outputs": [
    {
     "data": {
      "text/plain": [
       "<Figure size 864x432 with 0 Axes>"
      ]
     },
     "execution_count": 29,
     "metadata": {},
     "output_type": "execute_result"
    },
    {
     "data": {
      "text/plain": [
       "<AxesSubplot:xlabel='method', ylabel='time'>"
      ]
     },
     "execution_count": 29,
     "metadata": {},
     "output_type": "execute_result"
    },
    {
     "data": {
      "text/plain": [
       "Text(0.5, 1.0, 'Comparison of Time by Recommendation Method')"
      ]
     },
     "execution_count": 29,
     "metadata": {},
     "output_type": "execute_result"
    },
    {
     "data": {
      "text/plain": [
       "Text(0.5, 0, 'Recommendation Method')"
      ]
     },
     "execution_count": 29,
     "metadata": {},
     "output_type": "execute_result"
    },
    {
     "data": {
      "text/plain": [
       "Text(0, 0.5, 'Time')"
      ]
     },
     "execution_count": 29,
     "metadata": {},
     "output_type": "execute_result"
    },
    {
     "data": {
      "text/plain": [
       "(array([0, 1, 2, 3]),\n",
       " [Text(0, 0, 'SVD'),\n",
       "  Text(1, 0, 'Funk-SVD'),\n",
       "  Text(2, 0, 'CB'),\n",
       "  Text(3, 0, 'IBCF')])"
      ]
     },
     "execution_count": 29,
     "metadata": {},
     "output_type": "execute_result"
    },
    {
     "data": {
      "text/plain": [
       "(array([-200.,    0.,  200.,  400.,  600.,  800., 1000., 1200., 1400.]),\n",
       " [Text(0, 0, ''),\n",
       "  Text(0, 0, ''),\n",
       "  Text(0, 0, ''),\n",
       "  Text(0, 0, ''),\n",
       "  Text(0, 0, ''),\n",
       "  Text(0, 0, ''),\n",
       "  Text(0, 0, ''),\n",
       "  Text(0, 0, ''),\n",
       "  Text(0, 0, '')])"
      ]
     },
     "execution_count": 29,
     "metadata": {},
     "output_type": "execute_result"
    },
    {
     "data": {
      "image/png": "[encoded data removed]",
      "text/plain": [
       "<Figure size 864x432 with 1 Axes>"
      ]
     },
     "metadata": {
      "needs_background": "light"
     },
     "output_type": "display_data"
    }
   ],
   "source": [
    "# Set the figure size for the plot\n",
    "plt.figure(figsize=(12, 6))\n",
    "\n",
    "# Create a box plot to compare time taken across different recommendation methods\n",
    "sns.boxplot(data=hitrate_results_df, x=\"method\", y=\"time\")\n",
    "\n",
    "# Add a title and axis labels to the plot\n",
    "plt.title(\"Comparison of Time by Recommendation Method\", fontsize=16)\n",
    "plt.xlabel(\"Recommendation Method\", fontsize=14)\n",
    "plt.ylabel(\"Time\", fontsize=14)\n",
    "\n",
    "plt.xticks(fontsize=14)\n",
    "plt.yticks(fontsize=14)\n",
    "\n",
    "plt.savefig(save_path+\"time.png\", format='png', dpi=300)\n",
    "\n",
    "# Display the plot\n",
    "plt.show()\n"
   ]
  },
  {
   "cell_type": "markdown",
   "id": "23336a44",
   "metadata": {},
   "source": [
    "- The item-based collaborative filtering (IBCF) method outperforms the others in terms of hit rate, indicating a higher accuracy in capturing user preferences. The content-based method, however, performs the worst, primarily due to its reliance on item features rather than collaborative user information, which limits its ability to generalize beyond user-specific interests.\n",
    "\n",
    "- The SVD-based method achieves the highest efficiency, with significantly lower computation times compared to the other techniques. Funk-SVD, due to its iterative optimization process, exhibits the longest runtime. The content-based and IBCF methods fall between these two, with moderate time requirements."
   ]
  }
 ],
 "metadata": {
  "kernelspec": {
   "display_name": "python36",
   "language": "python",
   "name": "python36"
  },
  "language_info": {
   "codemirror_mode": {
    "name": "ipython",
    "version": 3
   },
   "file_extension": ".py",
   "mimetype": "text/x-python",
   "name": "python",
   "nbconvert_exporter": "python",
   "pygments_lexer": "ipython3",
   "version": "3.6.15"
  },
  "nbTranslate": {
   "displayLangs": [
    "*"
   ],
   "hotkey": "alt-t",
   "langInMainMenu": true,
   "sourceLang": "en",
   "targetLang": "fr",
   "useGoogleTranslate": true
  },
  "toc": {
   "base_numbering": 1,
   "nav_menu": {
    "height": "341.656px",
    "width": "476.656px"
   },
   "number_sections": true,
   "sideBar": true,
   "skip_h1_title": false,
   "title_cell": "Table of Contents",
   "title_sidebar": "Contents",
   "toc_cell": false,
   "toc_position": {},
   "toc_section_display": true,
   "toc_window_display": false
  }
 },
 "nbformat": 4,
 "nbformat_minor": 5
}
